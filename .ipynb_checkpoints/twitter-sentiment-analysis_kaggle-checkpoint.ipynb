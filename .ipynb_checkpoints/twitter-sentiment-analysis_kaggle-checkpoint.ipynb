{
 "cells": [
  {
   "cell_type": "markdown",
   "metadata": {},
   "source": [
    "# Twitter Sentiment Classification"
   ]
  },
  {
   "cell_type": "markdown",
   "metadata": {},
   "source": [
    "Github link:  https://github.com/Tasja25/Twitter_sentiment_TL"
   ]
  },
  {
   "cell_type": "markdown",
   "metadata": {},
   "source": [
    "## Introduction\n",
    "\n",
    "In this notebook we are undertaking the task of creating a machine learning model, in order to classify Twitter data as to whether or not a person believes in climate change, based on their twitter data."
   ]
  },
  {
   "cell_type": "markdown",
   "metadata": {},
   "source": [
    "### Comet Imports\n",
    "Comet assists us with version control, when running multiple models or one model multiple times with different parameters\n",
    " - You may first have to run \"pip install comet_ml\". If the comet imports don't work, try running the below in CMD"
   ]
  },
  {
   "cell_type": "code",
   "execution_count": null,
   "metadata": {},
   "outputs": [],
   "source": [
    "#!pip install comet_ml"
   ]
  },
  {
   "cell_type": "markdown",
   "metadata": {},
   "source": [
    " - Import comet_ml: Required import for comet functionality \n",
    " - Obtain api key from comet.com"
   ]
  },
  {
   "cell_type": "code",
   "execution_count": 1,
   "metadata": {
    "execution": {
     "iopub.execute_input": "2022-09-28T16:05:45.294572Z",
     "iopub.status.busy": "2022-09-28T16:05:45.293818Z",
     "iopub.status.idle": "2022-09-28T16:05:47.369977Z",
     "shell.execute_reply": "2022-09-28T16:05:47.368942Z",
     "shell.execute_reply.started": "2022-09-28T16:05:45.294523Z"
    }
   },
   "outputs": [],
   "source": [
    "# import comet_ml at the top of your file\n",
    "from comet_ml import Artifact, Experiment"
   ]
  },
  {
   "cell_type": "markdown",
   "metadata": {},
   "source": [
    "### Python Imports\n",
    "\n",
    "Next lets import our required python packages:"
   ]
  },
  {
   "cell_type": "code",
   "execution_count": 2,
   "metadata": {
    "execution": {
     "iopub.execute_input": "2022-09-29T12:54:34.651375Z",
     "iopub.status.busy": "2022-09-29T12:54:34.650845Z",
     "iopub.status.idle": "2022-09-29T12:54:34.668823Z",
     "shell.execute_reply": "2022-09-29T12:54:34.667431Z",
     "shell.execute_reply.started": "2022-09-29T12:54:34.651326Z"
    }
   },
   "outputs": [
    {
     "name": "stderr",
     "output_type": "stream",
     "text": [
      "[nltk_data] Downloading package omw-1.4 to\n",
      "[nltk_data]     C:\\Users\\nb205174\\AppData\\Roaming\\nltk_data...\n",
      "[nltk_data]   Package omw-1.4 is already up-to-date!\n",
      "[nltk_data] Downloading package wordnet to\n",
      "[nltk_data]     C:\\Users\\nb205174\\AppData\\Roaming\\nltk_data...\n",
      "[nltk_data]   Package wordnet is already up-to-date!\n",
      "[nltk_data] Downloading package stopwords to\n",
      "[nltk_data]     C:\\Users\\nb205174\\AppData\\Roaming\\nltk_data...\n",
      "[nltk_data]   Package stopwords is already up-to-date!\n"
     ]
    }
   ],
   "source": [
    "# Data processing\n",
    "import numpy as np\n",
    "import pandas as pd\n",
    "from collections import Counter\n",
    "\n",
    "# Regular expressions\n",
    "import re\n",
    "\n",
    "# Plots\n",
    "import matplotlib.pyplot as plt\n",
    "import seaborn as sns\n",
    "%matplotlib inline\n",
    "\n",
    "# For precision, recall, etc.\n",
    "from sklearn.metrics import classification_report, accuracy_score, log_loss\n",
    "from sklearn.metrics import f1_score, precision_score, recall_score, confusion_matrix\n",
    "\n",
    "# Preprocessing, scaling, vectorizer\n",
    "from sklearn import preprocessing\n",
    "from sklearn.preprocessing import StandardScaler\n",
    "from sklearn.model_selection import train_test_split\n",
    "from sklearn.tree import DecisionTreeClassifier\n",
    "from sklearn.linear_model import LogisticRegression\n",
    "from sklearn.naive_bayes import MultinomialNB\n",
    "from textblob.classifiers import NaiveBayesClassifier as NBC\n",
    "from sklearn.naive_bayes import GaussianNB\n",
    "from sklearn.feature_extraction.text import CountVectorizer\n",
    "\n",
    "# nltk \n",
    "import nltk\n",
    "# Note: TreebankWordTokenizer is much faster than word_tokenize\n",
    "from nltk import TreebankWordTokenizer, SnowballStemmer\n",
    "from nltk.stem import WordNetLemmatizer\n",
    "nltk.download('omw-1.4')\n",
    "from nltk.corpus import stopwords\n",
    "import string #Removing pucntuation\n",
    "import urllib\n",
    "nltk.download('wordnet')\n",
    "nltk.download('stopwords')\n",
    "\n",
    "\n",
    "# For up/down sampling\n",
    "from sklearn.utils import resample"
   ]
  },
  {
   "cell_type": "code",
   "execution_count": 3,
   "metadata": {
    "_cell_guid": "b1076dfc-b9ad-4769-8c92-a6c4dae69d19",
    "_uuid": "8f2839f25d086af736a60e9eeb907d3b93b6e0e5",
    "execution": {
     "iopub.status.busy": "2022-09-29T11:12:48.669415Z",
     "iopub.status.idle": "2022-09-29T11:12:48.669977Z",
     "shell.execute_reply": "2022-09-29T11:12:48.669722Z",
     "shell.execute_reply.started": "2022-09-29T11:12:48.669694Z"
    }
   },
   "outputs": [],
   "source": [
    "# Input data files are available in the read-only \"../input/\" directory\n",
    "# For example, running this (by clicking run or pressing Shift+Enter) will list all files under the input directory\n",
    "\n",
    "import os\n",
    "for dirname, _, filenames in os.walk('/kaggle/input'):\n",
    "    for filename in filenames:\n",
    "        print(os.path.join(dirname, filename))\n",
    "\n",
    "# You can write up to 20GB to the current directory (/kaggle/working/) that gets preserved as output when you create a version using \"Save & Run All\" \n",
    "# You can also write temporary files to /kaggle/temp/, but they won't be saved outside of the current session"
   ]
  },
  {
   "cell_type": "markdown",
   "metadata": {},
   "source": [
    "## Data\n",
    "\n",
    "Lets start by getting familiar with the data that we are working with"
   ]
  },
  {
   "cell_type": "code",
   "execution_count": 4,
   "metadata": {
    "execution": {
     "iopub.execute_input": "2022-09-29T12:54:38.173909Z",
     "iopub.status.busy": "2022-09-29T12:54:38.172362Z",
     "iopub.status.idle": "2022-09-29T12:54:38.179216Z",
     "shell.execute_reply": "2022-09-29T12:54:38.178130Z",
     "shell.execute_reply.started": "2022-09-29T12:54:38.173850Z"
    }
   },
   "outputs": [],
   "source": [
    "# Set pandas display to show the entire string\n",
    "pd.set_option('display.max_colwidth', None)"
   ]
  },
  {
   "cell_type": "code",
   "execution_count": 5,
   "metadata": {
    "execution": {
     "iopub.execute_input": "2022-09-29T12:54:38.338183Z",
     "iopub.status.busy": "2022-09-29T12:54:38.337346Z",
     "iopub.status.idle": "2022-09-29T12:54:38.410736Z",
     "shell.execute_reply": "2022-09-29T12:54:38.409127Z",
     "shell.execute_reply.started": "2022-09-29T12:54:38.338136Z"
    }
   },
   "outputs": [
    {
     "data": {
      "text/html": [
       "<div>\n",
       "<style scoped>\n",
       "    .dataframe tbody tr th:only-of-type {\n",
       "        vertical-align: middle;\n",
       "    }\n",
       "\n",
       "    .dataframe tbody tr th {\n",
       "        vertical-align: top;\n",
       "    }\n",
       "\n",
       "    .dataframe thead th {\n",
       "        text-align: right;\n",
       "    }\n",
       "</style>\n",
       "<table border=\"1\" class=\"dataframe\">\n",
       "  <thead>\n",
       "    <tr style=\"text-align: right;\">\n",
       "      <th></th>\n",
       "      <th>sentiment</th>\n",
       "      <th>message</th>\n",
       "      <th>tweetid</th>\n",
       "    </tr>\n",
       "  </thead>\n",
       "  <tbody>\n",
       "    <tr>\n",
       "      <th>0</th>\n",
       "      <td>1</td>\n",
       "      <td>PolySciMajor EPA chief doesn't think carbon dioxide is main cause of global warming and.. wait, what!? https://t.co/yeLvcEFXkC via @mashable</td>\n",
       "      <td>625221</td>\n",
       "    </tr>\n",
       "    <tr>\n",
       "      <th>1</th>\n",
       "      <td>1</td>\n",
       "      <td>It's not like we lack evidence of anthropogenic global warming</td>\n",
       "      <td>126103</td>\n",
       "    </tr>\n",
       "    <tr>\n",
       "      <th>2</th>\n",
       "      <td>2</td>\n",
       "      <td>RT @RawStory: Researchers say we have three years to act on climate change before it’s too late https://t.co/WdT0KdUr2f https://t.co/Z0ANPT…</td>\n",
       "      <td>698562</td>\n",
       "    </tr>\n",
       "    <tr>\n",
       "      <th>3</th>\n",
       "      <td>1</td>\n",
       "      <td>#TodayinMaker# WIRED : 2016 was a pivotal year in the war on climate change https://t.co/44wOTxTLcD</td>\n",
       "      <td>573736</td>\n",
       "    </tr>\n",
       "    <tr>\n",
       "      <th>4</th>\n",
       "      <td>1</td>\n",
       "      <td>RT @SoyNovioDeTodas: It's 2016, and a racist, sexist, climate change denying bigot is leading in the polls. #ElectionNight</td>\n",
       "      <td>466954</td>\n",
       "    </tr>\n",
       "  </tbody>\n",
       "</table>\n",
       "</div>"
      ],
      "text/plain": [
       "   sentiment  \\\n",
       "0          1   \n",
       "1          1   \n",
       "2          2   \n",
       "3          1   \n",
       "4          1   \n",
       "\n",
       "                                                                                                                                        message  \\\n",
       "0  PolySciMajor EPA chief doesn't think carbon dioxide is main cause of global warming and.. wait, what!? https://t.co/yeLvcEFXkC via @mashable   \n",
       "1                                                                                It's not like we lack evidence of anthropogenic global warming   \n",
       "2  RT @RawStory: Researchers say we have three years to act on climate change before it’s too late https://t.co/WdT0KdUr2f https://t.co/Z0ANPT…   \n",
       "3                                           #TodayinMaker# WIRED : 2016 was a pivotal year in the war on climate change https://t.co/44wOTxTLcD   \n",
       "4                    RT @SoyNovioDeTodas: It's 2016, and a racist, sexist, climate change denying bigot is leading in the polls. #ElectionNight   \n",
       "\n",
       "   tweetid  \n",
       "0   625221  \n",
       "1   126103  \n",
       "2   698562  \n",
       "3   573736  \n",
       "4   466954  "
      ]
     },
     "execution_count": 5,
     "metadata": {},
     "output_type": "execute_result"
    }
   ],
   "source": [
    "# Import train data\n",
    "# Using Kaggle\n",
    "#train = pd.read_csv('/kaggle/input/edsa-sentiment-classification/train.csv')\n",
    "# On local machine\n",
    "train = pd.read_csv('C:/Users/nb205174/OneDrive - Nedbank/Documents/PR/Nedbank Training/EDSA - ML/Sprint 4/PREDICT/Data/train.csv')\n",
    "train.head()"
   ]
  },
  {
   "cell_type": "code",
   "execution_count": 149,
   "metadata": {
    "execution": {
     "iopub.status.busy": "2022-09-29T11:12:48.688955Z",
     "iopub.status.idle": "2022-09-29T11:12:48.690473Z",
     "shell.execute_reply": "2022-09-29T11:12:48.690122Z",
     "shell.execute_reply.started": "2022-09-29T11:12:48.690083Z"
    }
   },
   "outputs": [
    {
     "data": {
      "text/plain": [
       "\"RT @Alifaith55: Oh. My. God.\\n\\nTrump's Government removes climate change page from EPA website hours ahead of #climatemarch\\n\\nhttps://t.co/9z…\""
      ]
     },
     "execution_count": 149,
     "metadata": {},
     "output_type": "execute_result"
    }
   ],
   "source": [
    "# Some potential items to remove:  @words, \\n\\n items, url's\n",
    "train['message'].loc[13]"
   ]
  },
  {
   "cell_type": "code",
   "execution_count": 150,
   "metadata": {
    "execution": {
     "iopub.status.busy": "2022-09-29T11:12:48.693231Z",
     "iopub.status.idle": "2022-09-29T11:12:48.693862Z",
     "shell.execute_reply": "2022-09-29T11:12:48.693576Z",
     "shell.execute_reply.started": "2022-09-29T11:12:48.693547Z"
    }
   },
   "outputs": [
    {
     "data": {
      "text/plain": [
       "'https://t.co/KyNIBjmDk5\\nScientists say climate change wiped out an entire underwater ecosystem. Again.\\n#climateÃ¢â‚¬Â¦ https://t.co/VZvJd3oXmI'"
      ]
     },
     "execution_count": 150,
     "metadata": {},
     "output_type": "execute_result"
    }
   ],
   "source": [
    "# Further items to remove: Special characters at the end of the string\n",
    "# Ensure url's are replaced at start and end of strings\n",
    "train['message'].loc[23]"
   ]
  },
  {
   "cell_type": "code",
   "execution_count": 151,
   "metadata": {
    "execution": {
     "iopub.status.busy": "2022-09-29T11:12:48.696650Z",
     "iopub.status.idle": "2022-09-29T11:12:48.698418Z",
     "shell.execute_reply": "2022-09-29T11:12:48.697951Z",
     "shell.execute_reply.started": "2022-09-29T11:12:48.697916Z"
    }
   },
   "outputs": [
    {
     "name": "stdout",
     "output_type": "stream",
     "text": [
      "<class 'pandas.core.frame.DataFrame'>\n",
      "RangeIndex: 15819 entries, 0 to 15818\n",
      "Data columns (total 3 columns):\n",
      " #   Column     Non-Null Count  Dtype \n",
      "---  ------     --------------  ----- \n",
      " 0   sentiment  15819 non-null  int64 \n",
      " 1   message    15819 non-null  object\n",
      " 2   tweetid    15819 non-null  int64 \n",
      "dtypes: int64(2), object(1)\n",
      "memory usage: 370.9+ KB\n"
     ]
    }
   ],
   "source": [
    "# Summary of our train data\n",
    "infor = train.info()"
   ]
  },
  {
   "cell_type": "code",
   "execution_count": 152,
   "metadata": {
    "execution": {
     "iopub.execute_input": "2022-09-29T11:12:48.808472Z",
     "iopub.status.busy": "2022-09-29T11:12:48.808044Z",
     "iopub.status.idle": "2022-09-29T11:12:48.830695Z",
     "shell.execute_reply": "2022-09-29T11:12:48.828181Z",
     "shell.execute_reply.started": "2022-09-29T11:12:48.808434Z"
    }
   },
   "outputs": [
    {
     "data": {
      "text/html": [
       "<div>\n",
       "<style scoped>\n",
       "    .dataframe tbody tr th:only-of-type {\n",
       "        vertical-align: middle;\n",
       "    }\n",
       "\n",
       "    .dataframe tbody tr th {\n",
       "        vertical-align: top;\n",
       "    }\n",
       "\n",
       "    .dataframe thead th {\n",
       "        text-align: right;\n",
       "    }\n",
       "</style>\n",
       "<table border=\"1\" class=\"dataframe\">\n",
       "  <thead>\n",
       "    <tr style=\"text-align: right;\">\n",
       "      <th></th>\n",
       "      <th>sentiment</th>\n",
       "      <th>message</th>\n",
       "      <th>tweetid</th>\n",
       "    </tr>\n",
       "  </thead>\n",
       "  <tbody>\n",
       "    <tr>\n",
       "      <th>28</th>\n",
       "      <td>-1</td>\n",
       "      <td>Sally Kohn’s latest evidence of climate change proves she is ‘not a smart person’ https://t.co/MhkzoGL9Vt via @twitchyteam Need we say more</td>\n",
       "      <td>355491</td>\n",
       "    </tr>\n",
       "    <tr>\n",
       "      <th>46</th>\n",
       "      <td>-1</td>\n",
       "      <td>@realDonaldTrump Carbon Tax is a Globalist idea to enslave the world's population. It is the whole reason for propagating global warming!</td>\n",
       "      <td>61141</td>\n",
       "    </tr>\n",
       "    <tr>\n",
       "      <th>48</th>\n",
       "      <td>-1</td>\n",
       "      <td>RT @SteveSGoddard: We had winds close to 100 MPH in the area this afternoon. I would blame climate change, except that this happens pr…</td>\n",
       "      <td>719523</td>\n",
       "    </tr>\n",
       "    <tr>\n",
       "      <th>56</th>\n",
       "      <td>-1</td>\n",
       "      <td>@MissLizzyNJ lmao 😂 snowflakes ❄️ complaining about snowflakes ❄️ in winter =global warming 🤦‍♂️</td>\n",
       "      <td>911385</td>\n",
       "    </tr>\n",
       "    <tr>\n",
       "      <th>57</th>\n",
       "      <td>-1</td>\n",
       "      <td>RT @Dawn2334Dawn: This is ONE of Arnold Schwarzenegger's vehicles. He is now whining about climate change.\\nHow's his maid...illegal or\\nhttp…</td>\n",
       "      <td>768263</td>\n",
       "    </tr>\n",
       "    <tr>\n",
       "      <th>...</th>\n",
       "      <td>...</td>\n",
       "      <td>...</td>\n",
       "      <td>...</td>\n",
       "    </tr>\n",
       "    <tr>\n",
       "      <th>15704</th>\n",
       "      <td>-1</td>\n",
       "      <td>RT @dbongino: We're at the point w/the delusional Left that literally every weather event is evidence of 'global warming.' Their dishonesty…</td>\n",
       "      <td>890582</td>\n",
       "    </tr>\n",
       "    <tr>\n",
       "      <th>15705</th>\n",
       "      <td>-1</td>\n",
       "      <td>RT @joshdcaplan: Al Gore admits Paris Accord won't solve the issue of 'climate change.'\\n\\nYet liberals say Trump pulling out will des…</td>\n",
       "      <td>380307</td>\n",
       "    </tr>\n",
       "    <tr>\n",
       "      <th>15711</th>\n",
       "      <td>-1</td>\n",
       "      <td>RT @JoshNoneYaBiz: Funny the same people who believe in climate change bc of science, cant accept that you're biologically male or female.…</td>\n",
       "      <td>390339</td>\n",
       "    </tr>\n",
       "    <tr>\n",
       "      <th>15806</th>\n",
       "      <td>-1</td>\n",
       "      <td>RT @HerberMp: @sness5561_ness Al Gore is a idiot! He thinks climate change is the cause of all our problems. Always has, always w…</td>\n",
       "      <td>213863</td>\n",
       "    </tr>\n",
       "    <tr>\n",
       "      <th>15817</th>\n",
       "      <td>-1</td>\n",
       "      <td>RT @sara8smiles: Hey liberals the climate change crap is a hoax that ties to #Agenda2030.\\nThe Climate is Being Changed byÃ¢â‚¬Â¦</td>\n",
       "      <td>819732</td>\n",
       "    </tr>\n",
       "  </tbody>\n",
       "</table>\n",
       "<p>1296 rows × 3 columns</p>\n",
       "</div>"
      ],
      "text/plain": [
       "       sentiment  \\\n",
       "28            -1   \n",
       "46            -1   \n",
       "48            -1   \n",
       "56            -1   \n",
       "57            -1   \n",
       "...          ...   \n",
       "15704         -1   \n",
       "15705         -1   \n",
       "15711         -1   \n",
       "15806         -1   \n",
       "15817         -1   \n",
       "\n",
       "                                                                                                                                              message  \\\n",
       "28        Sally Kohn’s latest evidence of climate change proves she is ‘not a smart person’ https://t.co/MhkzoGL9Vt via @twitchyteam Need we say more   \n",
       "46          @realDonaldTrump Carbon Tax is a Globalist idea to enslave the world's population. It is the whole reason for propagating global warming!   \n",
       "48           RT @SteveSGoddard: We had winds close to 100 MPH in the area this afternoon. I would blame climate change, except that this happens pr…    \n",
       "56                                                   @MissLizzyNJ lmao 😂 snowflakes ❄️ complaining about snowflakes ❄️ in winter =global warming 🤦‍♂️   \n",
       "57     RT @Dawn2334Dawn: This is ONE of Arnold Schwarzenegger's vehicles. He is now whining about climate change.\\nHow's his maid...illegal or\\nhttp…   \n",
       "...                                                                                                                                               ...   \n",
       "15704    RT @dbongino: We're at the point w/the delusional Left that literally every weather event is evidence of 'global warming.' Their dishonesty…   \n",
       "15705         RT @joshdcaplan: Al Gore admits Paris Accord won't solve the issue of 'climate change.'\\n\\nYet liberals say Trump pulling out will des…   \n",
       "15711     RT @JoshNoneYaBiz: Funny the same people who believe in climate change bc of science, cant accept that you're biologically male or female.…   \n",
       "15806              RT @HerberMp: @sness5561_ness Al Gore is a idiot! He thinks climate change is the cause of all our problems. Always has, always w…   \n",
       "15817               RT @sara8smiles: Hey liberals the climate change crap is a hoax that ties to #Agenda2030.\\nThe Climate is Being Changed byÃ¢â‚¬Â¦   \n",
       "\n",
       "       tweetid  \n",
       "28      355491  \n",
       "46       61141  \n",
       "48      719523  \n",
       "56      911385  \n",
       "57      768263  \n",
       "...        ...  \n",
       "15704   890582  \n",
       "15705   380307  \n",
       "15711   390339  \n",
       "15806   213863  \n",
       "15817   819732  \n",
       "\n",
       "[1296 rows x 3 columns]"
      ]
     },
     "execution_count": 152,
     "metadata": {},
     "output_type": "execute_result"
    }
   ],
   "source": [
    "# Looking at the sentiment field:\n",
    "# 2 indicates a strong belief in climate change, with -1 no belief in climate change / global warming\n",
    "train.loc[train['sentiment'] == -1]"
   ]
  },
  {
   "cell_type": "markdown",
   "metadata": {},
   "source": [
    "## Pre-processing\n",
    "\n",
    "Lets start by preparing the data to be used in our models. This involves:\n",
    "\n",
    "Cleaning data: Removing punctuation, capitalisation, identifying url's, identifying any other items that may not be relevant.\\\n",
    "May need to transform our final features, dependant on model type to be used.\\\n",
    "Transforming the categorical features (create dummy variables);\\\n",
    "Tokenization & Lemmatization\n",
    "Splitting the data into features & labels.\\\n",
    "Splitting the data into training and testing sets."
   ]
  },
  {
   "attachments": {
    "6e95a7f0-65ff-4c60-86ad-695d8c11a704.jpeg": {
     "image/jpeg": "[encoded data removed]"
    }
   },
   "cell_type": "markdown",
   "metadata": {},
   "source": [
    "![Text_preprocessing.jpeg](attachment:6e95a7f0-65ff-4c60-86ad-695d8c11a704.jpeg)"
   ]
  },
  {
   "cell_type": "markdown",
   "metadata": {},
   "source": [
    "### Data Cleaning\n",
    "Lets clean up our train data by removing punctuation, noise & capitalisation"
   ]
  },
  {
   "cell_type": "markdown",
   "metadata": {},
   "source": [
    "##### Remove capitalisation"
   ]
  },
  {
   "cell_type": "code",
   "execution_count": 6,
   "metadata": {
    "execution": {
     "iopub.execute_input": "2022-09-29T12:54:43.254047Z",
     "iopub.status.busy": "2022-09-29T12:54:43.253610Z",
     "iopub.status.idle": "2022-09-29T12:54:43.285196Z",
     "shell.execute_reply": "2022-09-29T12:54:43.283988Z",
     "shell.execute_reply.started": "2022-09-29T12:54:43.254012Z"
    }
   },
   "outputs": [
    {
     "data": {
      "text/html": [
       "<div>\n",
       "<style scoped>\n",
       "    .dataframe tbody tr th:only-of-type {\n",
       "        vertical-align: middle;\n",
       "    }\n",
       "\n",
       "    .dataframe tbody tr th {\n",
       "        vertical-align: top;\n",
       "    }\n",
       "\n",
       "    .dataframe thead th {\n",
       "        text-align: right;\n",
       "    }\n",
       "</style>\n",
       "<table border=\"1\" class=\"dataframe\">\n",
       "  <thead>\n",
       "    <tr style=\"text-align: right;\">\n",
       "      <th></th>\n",
       "      <th>sentiment</th>\n",
       "      <th>message</th>\n",
       "      <th>tweetid</th>\n",
       "    </tr>\n",
       "  </thead>\n",
       "  <tbody>\n",
       "    <tr>\n",
       "      <th>0</th>\n",
       "      <td>1</td>\n",
       "      <td>polyscimajor epa chief doesn't think carbon dioxide is main cause of global warming and.. wait, what!? https://t.co/yelvcefxkc via @mashable</td>\n",
       "      <td>625221</td>\n",
       "    </tr>\n",
       "    <tr>\n",
       "      <th>1</th>\n",
       "      <td>1</td>\n",
       "      <td>it's not like we lack evidence of anthropogenic global warming</td>\n",
       "      <td>126103</td>\n",
       "    </tr>\n",
       "    <tr>\n",
       "      <th>2</th>\n",
       "      <td>2</td>\n",
       "      <td>rt @rawstory: researchers say we have three years to act on climate change before it’s too late https://t.co/wdt0kdur2f https://t.co/z0anpt…</td>\n",
       "      <td>698562</td>\n",
       "    </tr>\n",
       "    <tr>\n",
       "      <th>3</th>\n",
       "      <td>1</td>\n",
       "      <td>#todayinmaker# wired : 2016 was a pivotal year in the war on climate change https://t.co/44wotxtlcd</td>\n",
       "      <td>573736</td>\n",
       "    </tr>\n",
       "    <tr>\n",
       "      <th>4</th>\n",
       "      <td>1</td>\n",
       "      <td>rt @soynoviodetodas: it's 2016, and a racist, sexist, climate change denying bigot is leading in the polls. #electionnight</td>\n",
       "      <td>466954</td>\n",
       "    </tr>\n",
       "  </tbody>\n",
       "</table>\n",
       "</div>"
      ],
      "text/plain": [
       "   sentiment  \\\n",
       "0          1   \n",
       "1          1   \n",
       "2          2   \n",
       "3          1   \n",
       "4          1   \n",
       "\n",
       "                                                                                                                                        message  \\\n",
       "0  polyscimajor epa chief doesn't think carbon dioxide is main cause of global warming and.. wait, what!? https://t.co/yelvcefxkc via @mashable   \n",
       "1                                                                                it's not like we lack evidence of anthropogenic global warming   \n",
       "2  rt @rawstory: researchers say we have three years to act on climate change before it’s too late https://t.co/wdt0kdur2f https://t.co/z0anpt…   \n",
       "3                                           #todayinmaker# wired : 2016 was a pivotal year in the war on climate change https://t.co/44wotxtlcd   \n",
       "4                    rt @soynoviodetodas: it's 2016, and a racist, sexist, climate change denying bigot is leading in the polls. #electionnight   \n",
       "\n",
       "   tweetid  \n",
       "0   625221  \n",
       "1   126103  \n",
       "2   698562  \n",
       "3   573736  \n",
       "4   466954  "
      ]
     },
     "execution_count": 6,
     "metadata": {},
     "output_type": "execute_result"
    }
   ],
   "source": [
    "# Remove capitalisation\n",
    "train['message'] = train['message'].str.lower()\n",
    "train.head()"
   ]
  },
  {
   "cell_type": "markdown",
   "metadata": {},
   "source": [
    "##### Identify the url's & then replace with a 'url-web'"
   ]
  },
  {
   "cell_type": "code",
   "execution_count": 7,
   "metadata": {
    "execution": {
     "iopub.execute_input": "2022-09-29T12:54:46.361467Z",
     "iopub.status.busy": "2022-09-29T12:54:46.359827Z",
     "iopub.status.idle": "2022-09-29T12:54:46.417554Z",
     "shell.execute_reply": "2022-09-29T12:54:46.416397Z",
     "shell.execute_reply.started": "2022-09-29T12:54:46.361392Z"
    }
   },
   "outputs": [],
   "source": [
    "# Identify url's & replace with 'url-web'\n",
    "pattern_url = r'http[s]?://(?:[A-Za-z]|[0-9]|[$-_@.&+]|[!*\\(\\),]|(?:%[0-9A-Fa-f][0-9A-Fa-f]))+'\n",
    "subs_url = r'url-web'\n",
    "subs_bvalue = r''\n",
    "train['message'] = train['message'].replace(to_replace = pattern_url, value = subs_url, regex = True)"
   ]
  },
  {
   "cell_type": "code",
   "execution_count": 8,
   "metadata": {
    "execution": {
     "iopub.execute_input": "2022-09-28T16:05:53.750396Z",
     "iopub.status.busy": "2022-09-28T16:05:53.750004Z",
     "iopub.status.idle": "2022-09-28T16:05:53.762466Z",
     "shell.execute_reply": "2022-09-28T16:05:53.760985Z",
     "shell.execute_reply.started": "2022-09-28T16:05:53.750362Z"
    }
   },
   "outputs": [
    {
     "data": {
      "text/html": [
       "<div>\n",
       "<style scoped>\n",
       "    .dataframe tbody tr th:only-of-type {\n",
       "        vertical-align: middle;\n",
       "    }\n",
       "\n",
       "    .dataframe tbody tr th {\n",
       "        vertical-align: top;\n",
       "    }\n",
       "\n",
       "    .dataframe thead th {\n",
       "        text-align: right;\n",
       "    }\n",
       "</style>\n",
       "<table border=\"1\" class=\"dataframe\">\n",
       "  <thead>\n",
       "    <tr style=\"text-align: right;\">\n",
       "      <th></th>\n",
       "      <th>sentiment</th>\n",
       "      <th>message</th>\n",
       "      <th>tweetid</th>\n",
       "    </tr>\n",
       "  </thead>\n",
       "  <tbody>\n",
       "    <tr>\n",
       "      <th>0</th>\n",
       "      <td>1</td>\n",
       "      <td>polyscimajor epa chief doesn't think carbon dioxide is main cause of global warming and.. wait, what!? url-web via @mashable</td>\n",
       "      <td>625221</td>\n",
       "    </tr>\n",
       "    <tr>\n",
       "      <th>1</th>\n",
       "      <td>1</td>\n",
       "      <td>it's not like we lack evidence of anthropogenic global warming</td>\n",
       "      <td>126103</td>\n",
       "    </tr>\n",
       "    <tr>\n",
       "      <th>2</th>\n",
       "      <td>2</td>\n",
       "      <td>rt @rawstory: researchers say we have three years to act on climate change before it’s too late url-web url-web…</td>\n",
       "      <td>698562</td>\n",
       "    </tr>\n",
       "    <tr>\n",
       "      <th>3</th>\n",
       "      <td>1</td>\n",
       "      <td>#todayinmaker# wired : 2016 was a pivotal year in the war on climate change url-web</td>\n",
       "      <td>573736</td>\n",
       "    </tr>\n",
       "    <tr>\n",
       "      <th>4</th>\n",
       "      <td>1</td>\n",
       "      <td>rt @soynoviodetodas: it's 2016, and a racist, sexist, climate change denying bigot is leading in the polls. #electionnight</td>\n",
       "      <td>466954</td>\n",
       "    </tr>\n",
       "  </tbody>\n",
       "</table>\n",
       "</div>"
      ],
      "text/plain": [
       "   sentiment  \\\n",
       "0          1   \n",
       "1          1   \n",
       "2          2   \n",
       "3          1   \n",
       "4          1   \n",
       "\n",
       "                                                                                                                        message  \\\n",
       "0  polyscimajor epa chief doesn't think carbon dioxide is main cause of global warming and.. wait, what!? url-web via @mashable   \n",
       "1                                                                it's not like we lack evidence of anthropogenic global warming   \n",
       "2              rt @rawstory: researchers say we have three years to act on climate change before it’s too late url-web url-web…   \n",
       "3                                           #todayinmaker# wired : 2016 was a pivotal year in the war on climate change url-web   \n",
       "4    rt @soynoviodetodas: it's 2016, and a racist, sexist, climate change denying bigot is leading in the polls. #electionnight   \n",
       "\n",
       "   tweetid  \n",
       "0   625221  \n",
       "1   126103  \n",
       "2   698562  \n",
       "3   573736  \n",
       "4   466954  "
      ]
     },
     "execution_count": 8,
     "metadata": {},
     "output_type": "execute_result"
    }
   ],
   "source": [
    "# Check\n",
    "train.head()"
   ]
  },
  {
   "cell_type": "markdown",
   "metadata": {},
   "source": [
    "### Lets remove all @ tag words\n",
    "These are assumed to be directed at someone & will likely add very little value\\\n",
    "We will keep #words as these could contain some good indications of sentiment"
   ]
  },
  {
   "cell_type": "code",
   "execution_count": 9,
   "metadata": {
    "execution": {
     "iopub.execute_input": "2022-09-28T16:05:54.188664Z",
     "iopub.status.busy": "2022-09-28T16:05:54.187463Z",
     "iopub.status.idle": "2022-09-28T16:05:54.195658Z",
     "shell.execute_reply": "2022-09-28T16:05:54.194543Z",
     "shell.execute_reply.started": "2022-09-28T16:05:54.188616Z"
    }
   },
   "outputs": [
    {
     "data": {
      "text/plain": [
       "'rt @rawstory: researchers say we have three years to act on climate change before it’s too late url-web url-web…'"
      ]
     },
     "execution_count": 9,
     "metadata": {},
     "output_type": "execute_result"
    }
   ],
   "source": [
    "# Example of @word\n",
    "train['message'].iloc[2]"
   ]
  },
  {
   "cell_type": "code",
   "execution_count": 10,
   "metadata": {
    "execution": {
     "iopub.execute_input": "2022-09-29T12:54:51.014894Z",
     "iopub.status.busy": "2022-09-29T12:54:51.014459Z",
     "iopub.status.idle": "2022-09-29T12:54:51.068784Z",
     "shell.execute_reply": "2022-09-29T12:54:51.067477Z",
     "shell.execute_reply.started": "2022-09-29T12:54:51.014858Z"
    }
   },
   "outputs": [
    {
     "data": {
      "text/plain": [
       "'rt  researchers say we have three years to act on climate change before it’s too late url-web url-web…'"
      ]
     },
     "execution_count": 10,
     "metadata": {},
     "output_type": "execute_result"
    }
   ],
   "source": [
    "# Identify @words & replace with blank\n",
    "pattern_at = r'@\\S+'\n",
    "subs_bvalue = r''\n",
    "train['message'] = train['message'].replace(to_replace = pattern_at, value = subs_bvalue, regex = True)\n",
    "train['message'].iloc[2]"
   ]
  },
  {
   "cell_type": "code",
   "execution_count": 11,
   "metadata": {
    "execution": {
     "iopub.execute_input": "2022-09-28T16:05:55.341677Z",
     "iopub.status.busy": "2022-09-28T16:05:55.340578Z",
     "iopub.status.idle": "2022-09-28T16:05:55.348496Z",
     "shell.execute_reply": "2022-09-28T16:05:55.347406Z",
     "shell.execute_reply.started": "2022-09-28T16:05:55.341606Z"
    }
   },
   "outputs": [
    {
     "data": {
      "text/plain": [
       "\"polyscimajor epa chief doesn't think carbon dioxide is main cause of global warming and.. wait, what!? url-web via \""
      ]
     },
     "execution_count": 11,
     "metadata": {},
     "output_type": "execute_result"
    }
   ],
   "source": [
    "# Check if @word at end of string is also removed\n",
    "train['message'].iloc[0]"
   ]
  },
  {
   "cell_type": "markdown",
   "metadata": {},
   "source": [
    "#### Now we can remove punctuation"
   ]
  },
  {
   "cell_type": "code",
   "execution_count": 12,
   "metadata": {
    "execution": {
     "iopub.execute_input": "2022-09-29T12:17:22.467565Z",
     "iopub.status.busy": "2022-09-29T12:17:22.466967Z",
     "iopub.status.idle": "2022-09-29T12:17:22.475743Z",
     "shell.execute_reply": "2022-09-29T12:17:22.473733Z",
     "shell.execute_reply.started": "2022-09-29T12:17:22.467519Z"
    }
   },
   "outputs": [
    {
     "name": "stdout",
     "output_type": "stream",
     "text": [
      "List of punctuatuations: !\"#$%&'()*+,-./:;<=>?@[\\]^_`{|}~\n"
     ]
    }
   ],
   "source": [
    "# Punctuation: List of punctuation items provided by regex string function - excluding #\n",
    "print(\"List of punctuatuations:\",string.punctuation)"
   ]
  },
  {
   "cell_type": "code",
   "execution_count": 13,
   "metadata": {
    "execution": {
     "iopub.execute_input": "2022-09-29T12:54:54.675752Z",
     "iopub.status.busy": "2022-09-29T12:54:54.675259Z",
     "iopub.status.idle": "2022-09-29T12:54:54.683553Z",
     "shell.execute_reply": "2022-09-29T12:54:54.681379Z",
     "shell.execute_reply.started": "2022-09-29T12:54:54.675695Z"
    }
   },
   "outputs": [],
   "source": [
    "# Create function for removing pucntuation\n",
    "def remove_punctuation(post):\n",
    "    return ''.join([l for l in post if l not in string.punctuation])"
   ]
  },
  {
   "cell_type": "code",
   "execution_count": 14,
   "metadata": {
    "execution": {
     "iopub.execute_input": "2022-09-29T12:54:57.155243Z",
     "iopub.status.busy": "2022-09-29T12:54:57.154808Z",
     "iopub.status.idle": "2022-09-29T12:54:57.423535Z",
     "shell.execute_reply": "2022-09-29T12:54:57.422646Z",
     "shell.execute_reply.started": "2022-09-29T12:54:57.155208Z"
    }
   },
   "outputs": [
    {
     "data": {
      "text/html": [
       "<div>\n",
       "<style scoped>\n",
       "    .dataframe tbody tr th:only-of-type {\n",
       "        vertical-align: middle;\n",
       "    }\n",
       "\n",
       "    .dataframe tbody tr th {\n",
       "        vertical-align: top;\n",
       "    }\n",
       "\n",
       "    .dataframe thead th {\n",
       "        text-align: right;\n",
       "    }\n",
       "</style>\n",
       "<table border=\"1\" class=\"dataframe\">\n",
       "  <thead>\n",
       "    <tr style=\"text-align: right;\">\n",
       "      <th></th>\n",
       "      <th>sentiment</th>\n",
       "      <th>message</th>\n",
       "      <th>tweetid</th>\n",
       "    </tr>\n",
       "  </thead>\n",
       "  <tbody>\n",
       "    <tr>\n",
       "      <th>0</th>\n",
       "      <td>1</td>\n",
       "      <td>polyscimajor epa chief doesnt think carbon dioxide is main cause of global warming and wait what urlweb via</td>\n",
       "      <td>625221</td>\n",
       "    </tr>\n",
       "    <tr>\n",
       "      <th>1</th>\n",
       "      <td>1</td>\n",
       "      <td>its not like we lack evidence of anthropogenic global warming</td>\n",
       "      <td>126103</td>\n",
       "    </tr>\n",
       "    <tr>\n",
       "      <th>2</th>\n",
       "      <td>2</td>\n",
       "      <td>rt  researchers say we have three years to act on climate change before it’s too late urlweb urlweb…</td>\n",
       "      <td>698562</td>\n",
       "    </tr>\n",
       "    <tr>\n",
       "      <th>3</th>\n",
       "      <td>1</td>\n",
       "      <td>todayinmaker wired  2016 was a pivotal year in the war on climate change urlweb</td>\n",
       "      <td>573736</td>\n",
       "    </tr>\n",
       "    <tr>\n",
       "      <th>4</th>\n",
       "      <td>1</td>\n",
       "      <td>rt  its 2016 and a racist sexist climate change denying bigot is leading in the polls electionnight</td>\n",
       "      <td>466954</td>\n",
       "    </tr>\n",
       "  </tbody>\n",
       "</table>\n",
       "</div>"
      ],
      "text/plain": [
       "   sentiment  \\\n",
       "0          1   \n",
       "1          1   \n",
       "2          2   \n",
       "3          1   \n",
       "4          1   \n",
       "\n",
       "                                                                                                        message  \\\n",
       "0  polyscimajor epa chief doesnt think carbon dioxide is main cause of global warming and wait what urlweb via    \n",
       "1                                                 its not like we lack evidence of anthropogenic global warming   \n",
       "2          rt  researchers say we have three years to act on climate change before it’s too late urlweb urlweb…   \n",
       "3                               todayinmaker wired  2016 was a pivotal year in the war on climate change urlweb   \n",
       "4           rt  its 2016 and a racist sexist climate change denying bigot is leading in the polls electionnight   \n",
       "\n",
       "   tweetid  \n",
       "0   625221  \n",
       "1   126103  \n",
       "2   698562  \n",
       "3   573736  \n",
       "4   466954  "
      ]
     },
     "execution_count": 14,
     "metadata": {},
     "output_type": "execute_result"
    }
   ],
   "source": [
    "# Remove punctuation\n",
    "train['message'] = train['message'].apply(remove_punctuation)\n",
    "train.head()"
   ]
  },
  {
   "cell_type": "markdown",
   "metadata": {},
   "source": [
    "### Lets replace the \\n values from the string with a space"
   ]
  },
  {
   "cell_type": "code",
   "execution_count": 15,
   "metadata": {
    "execution": {
     "iopub.execute_input": "2022-09-28T16:06:02.260541Z",
     "iopub.status.busy": "2022-09-28T16:06:02.259717Z",
     "iopub.status.idle": "2022-09-28T16:06:02.267154Z",
     "shell.execute_reply": "2022-09-28T16:06:02.266189Z",
     "shell.execute_reply.started": "2022-09-28T16:06:02.260504Z"
    }
   },
   "outputs": [
    {
     "data": {
      "text/plain": [
       "'rt  oh my god\\n\\ntrumps government removes climate change page from epa website hours ahead of climatemarch\\n\\nurlweb…'"
      ]
     },
     "execution_count": 15,
     "metadata": {},
     "output_type": "execute_result"
    }
   ],
   "source": [
    "# Values before removing \\n\n",
    "train['message'].iloc[13]"
   ]
  },
  {
   "cell_type": "code",
   "execution_count": 16,
   "metadata": {
    "execution": {
     "iopub.execute_input": "2022-09-29T12:55:00.693217Z",
     "iopub.status.busy": "2022-09-29T12:55:00.692791Z",
     "iopub.status.idle": "2022-09-29T12:55:00.733627Z",
     "shell.execute_reply": "2022-09-29T12:55:00.732392Z",
     "shell.execute_reply.started": "2022-09-29T12:55:00.693185Z"
    }
   },
   "outputs": [
    {
     "data": {
      "text/plain": [
       "'rt  oh my god  trumps government removes climate change page from epa website hours ahead of climatemarch  urlweb…'"
      ]
     },
     "execution_count": 16,
     "metadata": {},
     "output_type": "execute_result"
    }
   ],
   "source": [
    "# After replacing \\n values\n",
    "train['message'] = train['message'].replace(to_replace = '\\n', value = ' ', regex = True)\n",
    "train['message'].iloc[13]"
   ]
  },
  {
   "cell_type": "markdown",
   "metadata": {},
   "source": [
    "### Punctuation did not remove special characters, like:  ã¢â‚¬â¦\n",
    "\n",
    "### Lets remove values that are not alphanumeric"
   ]
  },
  {
   "cell_type": "code",
   "execution_count": 17,
   "metadata": {
    "execution": {
     "iopub.execute_input": "2022-09-28T16:06:05.781779Z",
     "iopub.status.busy": "2022-09-28T16:06:05.781375Z",
     "iopub.status.idle": "2022-09-28T16:06:05.789233Z",
     "shell.execute_reply": "2022-09-28T16:06:05.788086Z",
     "shell.execute_reply.started": "2022-09-28T16:06:05.781745Z"
    }
   },
   "outputs": [
    {
     "data": {
      "text/plain": [
       "'urlweb scientists say climate change wiped out an entire underwater ecosystem again climateã¢â‚¬â¦ urlweb'"
      ]
     },
     "execution_count": 17,
     "metadata": {},
     "output_type": "execute_result"
    }
   ],
   "source": [
    "# Example of special characters\n",
    "train['message'].iloc[23]"
   ]
  },
  {
   "cell_type": "code",
   "execution_count": 18,
   "metadata": {
    "execution": {
     "iopub.execute_input": "2022-09-29T12:55:04.626539Z",
     "iopub.status.busy": "2022-09-29T12:55:04.626074Z",
     "iopub.status.idle": "2022-09-29T12:55:04.777510Z",
     "shell.execute_reply": "2022-09-29T12:55:04.776187Z",
     "shell.execute_reply.started": "2022-09-29T12:55:04.626499Z"
    }
   },
   "outputs": [
    {
     "data": {
      "text/plain": [
       "'urlweb scientists say climate change wiped out an entire underwater ecosystem again climate urlweb'"
      ]
     },
     "execution_count": 18,
     "metadata": {},
     "output_type": "execute_result"
    }
   ],
   "source": [
    "# Remove special characters & check\n",
    "pattern_special = r'[^0-9a-zA-Z]+'\n",
    "train['message'] = train['message'].replace(to_replace = pattern_special, value = ' ', regex = True)\n",
    "train['message'].iloc[23]"
   ]
  },
  {
   "cell_type": "markdown",
   "metadata": {},
   "source": [
    "### Remove numbers\n",
    "\n",
    "Alot of number values come through in the initial models - Lets remove these as well."
   ]
  },
  {
   "cell_type": "code",
   "execution_count": 19,
   "metadata": {
    "execution": {
     "iopub.execute_input": "2022-09-29T11:13:35.659724Z",
     "iopub.status.busy": "2022-09-29T11:13:35.659273Z",
     "iopub.status.idle": "2022-09-29T11:13:35.667183Z",
     "shell.execute_reply": "2022-09-29T11:13:35.665864Z",
     "shell.execute_reply.started": "2022-09-29T11:13:35.659688Z"
    }
   },
   "outputs": [
    {
     "data": {
      "text/plain": [
       "'rt 500000 doctors agree climate change is making us sick earthday marchforscience healthandclimate '"
      ]
     },
     "execution_count": 19,
     "metadata": {},
     "output_type": "execute_result"
    }
   ],
   "source": [
    "# Example where we have a number in the text\n",
    "train['message'].iloc[104]"
   ]
  },
  {
   "cell_type": "code",
   "execution_count": 20,
   "metadata": {
    "execution": {
     "iopub.execute_input": "2022-09-29T12:55:08.717281Z",
     "iopub.status.busy": "2022-09-29T12:55:08.716742Z",
     "iopub.status.idle": "2022-09-29T12:55:08.796506Z",
     "shell.execute_reply": "2022-09-29T12:55:08.795425Z",
     "shell.execute_reply.started": "2022-09-29T12:55:08.717231Z"
    }
   },
   "outputs": [
    {
     "data": {
      "text/plain": [
       "'rt  doctors agree climate change is making us sick earthday marchforscience healthandclimate '"
      ]
     },
     "execution_count": 20,
     "metadata": {},
     "output_type": "execute_result"
    }
   ],
   "source": [
    "# Remove numbers & check\n",
    "pattern_at = r'[0-9]+'\n",
    "subs_bvalue = r''\n",
    "train['message'] = train['message'].replace(to_replace = pattern_at, value = subs_bvalue, regex = True)\n",
    "train['message'].iloc[104]"
   ]
  },
  {
   "cell_type": "markdown",
   "metadata": {},
   "source": [
    "### Tokenisation\n",
    "Lets break the sentences up into tokens"
   ]
  },
  {
   "cell_type": "code",
   "execution_count": 21,
   "metadata": {
    "execution": {
     "iopub.execute_input": "2022-09-29T12:55:11.994484Z",
     "iopub.status.busy": "2022-09-29T12:55:11.993568Z",
     "iopub.status.idle": "2022-09-29T12:55:12.001351Z",
     "shell.execute_reply": "2022-09-29T12:55:11.999331Z",
     "shell.execute_reply.started": "2022-09-29T12:55:11.994404Z"
    }
   },
   "outputs": [],
   "source": [
    "# Initialize tokenizer\n",
    "tokeniser = TreebankWordTokenizer()"
   ]
  },
  {
   "cell_type": "code",
   "execution_count": 22,
   "metadata": {
    "execution": {
     "iopub.execute_input": "2022-09-29T12:55:12.628766Z",
     "iopub.status.busy": "2022-09-29T12:55:12.627826Z",
     "iopub.status.idle": "2022-09-29T12:55:13.965250Z",
     "shell.execute_reply": "2022-09-29T12:55:13.963940Z",
     "shell.execute_reply.started": "2022-09-29T12:55:12.628712Z"
    }
   },
   "outputs": [],
   "source": [
    "# Apply tokenizer\n",
    "train['tokens'] = train['message'].apply(tokeniser.tokenize)"
   ]
  },
  {
   "cell_type": "code",
   "execution_count": 23,
   "metadata": {
    "execution": {
     "iopub.execute_input": "2022-09-28T16:06:15.546715Z",
     "iopub.status.busy": "2022-09-28T16:06:15.545894Z",
     "iopub.status.idle": "2022-09-28T16:06:15.559905Z",
     "shell.execute_reply": "2022-09-28T16:06:15.559041Z",
     "shell.execute_reply.started": "2022-09-28T16:06:15.546676Z"
    }
   },
   "outputs": [
    {
     "data": {
      "text/html": [
       "<div>\n",
       "<style scoped>\n",
       "    .dataframe tbody tr th:only-of-type {\n",
       "        vertical-align: middle;\n",
       "    }\n",
       "\n",
       "    .dataframe tbody tr th {\n",
       "        vertical-align: top;\n",
       "    }\n",
       "\n",
       "    .dataframe thead th {\n",
       "        text-align: right;\n",
       "    }\n",
       "</style>\n",
       "<table border=\"1\" class=\"dataframe\">\n",
       "  <thead>\n",
       "    <tr style=\"text-align: right;\">\n",
       "      <th></th>\n",
       "      <th>sentiment</th>\n",
       "      <th>message</th>\n",
       "      <th>tweetid</th>\n",
       "      <th>tokens</th>\n",
       "    </tr>\n",
       "  </thead>\n",
       "  <tbody>\n",
       "    <tr>\n",
       "      <th>0</th>\n",
       "      <td>1</td>\n",
       "      <td>polyscimajor epa chief doesnt think carbon dioxide is main cause of global warming and wait what urlweb via</td>\n",
       "      <td>625221</td>\n",
       "      <td>[polyscimajor, epa, chief, doesnt, think, carbon, dioxide, is, main, cause, of, global, warming, and, wait, what, urlweb, via]</td>\n",
       "    </tr>\n",
       "    <tr>\n",
       "      <th>1</th>\n",
       "      <td>1</td>\n",
       "      <td>its not like we lack evidence of anthropogenic global warming</td>\n",
       "      <td>126103</td>\n",
       "      <td>[its, not, like, we, lack, evidence, of, anthropogenic, global, warming]</td>\n",
       "    </tr>\n",
       "    <tr>\n",
       "      <th>2</th>\n",
       "      <td>2</td>\n",
       "      <td>rt researchers say we have three years to act on climate change before it s too late urlweb urlweb</td>\n",
       "      <td>698562</td>\n",
       "      <td>[rt, researchers, say, we, have, three, years, to, act, on, climate, change, before, it, s, too, late, urlweb, urlweb]</td>\n",
       "    </tr>\n",
       "    <tr>\n",
       "      <th>3</th>\n",
       "      <td>1</td>\n",
       "      <td>todayinmaker wired  was a pivotal year in the war on climate change urlweb</td>\n",
       "      <td>573736</td>\n",
       "      <td>[todayinmaker, wired, was, a, pivotal, year, in, the, war, on, climate, change, urlweb]</td>\n",
       "    </tr>\n",
       "    <tr>\n",
       "      <th>4</th>\n",
       "      <td>1</td>\n",
       "      <td>rt its  and a racist sexist climate change denying bigot is leading in the polls electionnight</td>\n",
       "      <td>466954</td>\n",
       "      <td>[rt, its, and, a, racist, sexist, climate, change, denying, bigot, is, leading, in, the, polls, electionnight]</td>\n",
       "    </tr>\n",
       "  </tbody>\n",
       "</table>\n",
       "</div>"
      ],
      "text/plain": [
       "   sentiment  \\\n",
       "0          1   \n",
       "1          1   \n",
       "2          2   \n",
       "3          1   \n",
       "4          1   \n",
       "\n",
       "                                                                                                        message  \\\n",
       "0  polyscimajor epa chief doesnt think carbon dioxide is main cause of global warming and wait what urlweb via    \n",
       "1                                                 its not like we lack evidence of anthropogenic global warming   \n",
       "2           rt researchers say we have three years to act on climate change before it s too late urlweb urlweb    \n",
       "3                                    todayinmaker wired  was a pivotal year in the war on climate change urlweb   \n",
       "4                rt its  and a racist sexist climate change denying bigot is leading in the polls electionnight   \n",
       "\n",
       "   tweetid  \\\n",
       "0   625221   \n",
       "1   126103   \n",
       "2   698562   \n",
       "3   573736   \n",
       "4   466954   \n",
       "\n",
       "                                                                                                                           tokens  \n",
       "0  [polyscimajor, epa, chief, doesnt, think, carbon, dioxide, is, main, cause, of, global, warming, and, wait, what, urlweb, via]  \n",
       "1                                                        [its, not, like, we, lack, evidence, of, anthropogenic, global, warming]  \n",
       "2          [rt, researchers, say, we, have, three, years, to, act, on, climate, change, before, it, s, too, late, urlweb, urlweb]  \n",
       "3                                         [todayinmaker, wired, was, a, pivotal, year, in, the, war, on, climate, change, urlweb]  \n",
       "4                  [rt, its, and, a, racist, sexist, climate, change, denying, bigot, is, leading, in, the, polls, electionnight]  "
      ]
     },
     "execution_count": 23,
     "metadata": {},
     "output_type": "execute_result"
    }
   ],
   "source": [
    "# Check\n",
    "train.head()"
   ]
  },
  {
   "cell_type": "markdown",
   "metadata": {},
   "source": [
    "### Stopwords\n",
    "\n",
    "Lets have a look at some of the more common words coming through to determine if stopword removal is required"
   ]
  },
  {
   "cell_type": "code",
   "execution_count": 24,
   "metadata": {
    "execution": {
     "iopub.execute_input": "2022-09-28T16:06:16.451491Z",
     "iopub.status.busy": "2022-09-28T16:06:16.450344Z",
     "iopub.status.idle": "2022-09-28T16:06:16.549145Z",
     "shell.execute_reply": "2022-09-28T16:06:16.547845Z",
     "shell.execute_reply.started": "2022-09-28T16:06:16.451452Z"
    }
   },
   "outputs": [
    {
     "data": {
      "text/plain": [
       "[('climate', 12963),\n",
       " ('change', 12584),\n",
       " ('rt', 9724),\n",
       " ('urlweb', 9658),\n",
       " ('the', 7764),\n",
       " ('to', 7203),\n",
       " ('is', 4399),\n",
       " ('of', 4226),\n",
       " ('a', 4201),\n",
       " ('global', 3779),\n",
       " ('in', 3706),\n",
       " ('warming', 3506),\n",
       " ('and', 3015),\n",
       " ('on', 2754),\n",
       " ('trump', 2065),\n",
       " ('for', 1994),\n",
       " ('about', 1811),\n",
       " ('that', 1601),\n",
       " ('we', 1552),\n",
       " ('you', 1481)]"
      ]
     },
     "execution_count": 24,
     "metadata": {},
     "output_type": "execute_result"
    }
   ],
   "source": [
    "# Top 20 words coming through\n",
    "Most_common = Counter(\" \".join(train[\"message\"]).split()).most_common(20)\n",
    "Most_common"
   ]
  },
  {
   "cell_type": "markdown",
   "metadata": {},
   "source": [
    "We are leaving the removal of stopwords for now as certain combination of words would be important to have, like doesnt believe or does believe OR do support vs dont support\\\n",
    "Consider including a list of specific stop words in the modelling section"
   ]
  },
  {
   "cell_type": "code",
   "execution_count": 25,
   "metadata": {
    "execution": {
     "iopub.execute_input": "2022-09-28T16:06:18.990227Z",
     "iopub.status.busy": "2022-09-28T16:06:18.989724Z",
     "iopub.status.idle": "2022-09-28T16:06:19.000461Z",
     "shell.execute_reply": "2022-09-28T16:06:18.999279Z",
     "shell.execute_reply.started": "2022-09-28T16:06:18.990186Z"
    }
   },
   "outputs": [
    {
     "name": "stdout",
     "output_type": "stream",
     "text": [
      "['i', 'me', 'my', 'myself', 'we', 'our', 'ours', 'ourselves', 'you', \"you're\", \"you've\", \"you'll\", \"you'd\", 'your', 'yours', 'yourself', 'yourselves', 'he', 'him', 'his', 'himself', 'she', \"she's\", 'her', 'hers', 'herself', 'it', \"it's\", 'its', 'itself', 'they', 'them', 'their', 'theirs', 'themselves', 'what', 'which', 'who', 'whom', 'this', 'that', \"that'll\", 'these', 'those', 'am', 'is', 'are', 'was', 'were', 'be', 'been', 'being', 'have', 'has', 'had', 'having', 'do', 'does', 'did', 'doing', 'a', 'an', 'the', 'and', 'but', 'if', 'or', 'because', 'as', 'until', 'while', 'of', 'at', 'by', 'for', 'with', 'about', 'against', 'between', 'into', 'through', 'during', 'before', 'after', 'above', 'below', 'to', 'from', 'up', 'down', 'in', 'out', 'on', 'off', 'over', 'under', 'again', 'further', 'then', 'once', 'here', 'there', 'when', 'where', 'why', 'how', 'all', 'any', 'both', 'each', 'few', 'more', 'most', 'other', 'some', 'such', 'no', 'nor', 'not', 'only', 'own', 'same', 'so', 'than', 'too', 'very', 's', 't', 'can', 'will', 'just', 'don', \"don't\", 'should', \"should've\", 'now', 'd', 'll', 'm', 'o', 're', 've', 'y', 'ain', 'aren', \"aren't\", 'couldn', \"couldn't\", 'didn', \"didn't\", 'doesn', \"doesn't\", 'hadn', \"hadn't\", 'hasn', \"hasn't\", 'haven', \"haven't\", 'isn', \"isn't\", 'ma', 'mightn', \"mightn't\", 'mustn', \"mustn't\", 'needn', \"needn't\", 'shan', \"shan't\", 'shouldn', \"shouldn't\", 'wasn', \"wasn't\", 'weren', \"weren't\", 'won', \"won't\", 'wouldn', \"wouldn't\"]\n"
     ]
    }
   ],
   "source": [
    "# Dispaly list of stopwords\n",
    "stopwords_list = stopwords.words('english')\n",
    "print(stopwords_list)"
   ]
  },
  {
   "cell_type": "code",
   "execution_count": 26,
   "metadata": {
    "execution": {
     "iopub.execute_input": "2022-09-28T16:06:19.837483Z",
     "iopub.status.busy": "2022-09-28T16:06:19.836487Z",
     "iopub.status.idle": "2022-09-28T16:06:19.843092Z",
     "shell.execute_reply": "2022-09-28T16:06:19.841826Z",
     "shell.execute_reply.started": "2022-09-28T16:06:19.837439Z"
    }
   },
   "outputs": [],
   "source": [
    "# Function to remove stopwords\n",
    "#def remove_stop_words(tokens):    \n",
    "#    return [word for word in tokens if word not in stopwords.words('english')]"
   ]
  },
  {
   "cell_type": "code",
   "execution_count": 27,
   "metadata": {
    "execution": {
     "iopub.execute_input": "2022-09-28T16:06:20.587435Z",
     "iopub.status.busy": "2022-09-28T16:06:20.586573Z",
     "iopub.status.idle": "2022-09-28T16:06:20.592558Z",
     "shell.execute_reply": "2022-09-28T16:06:20.591481Z",
     "shell.execute_reply.started": "2022-09-28T16:06:20.587392Z"
    }
   },
   "outputs": [],
   "source": [
    "#train.head()"
   ]
  },
  {
   "cell_type": "markdown",
   "metadata": {},
   "source": [
    "In the above, it would remove words like \"not\" & \"too\" in late which could actually help in identifying the correct message. Is vs isnt could also be an important distinction"
   ]
  },
  {
   "cell_type": "markdown",
   "metadata": {},
   "source": [
    "### Lemmatisation\n",
    "Lets map the tokens to their lemma to assist with categorizing our data & reducing number of fields"
   ]
  },
  {
   "cell_type": "code",
   "execution_count": 28,
   "metadata": {
    "execution": {
     "iopub.execute_input": "2022-09-29T12:57:39.538273Z",
     "iopub.status.busy": "2022-09-29T12:57:39.537795Z",
     "iopub.status.idle": "2022-09-29T12:57:39.545893Z",
     "shell.execute_reply": "2022-09-29T12:57:39.543914Z",
     "shell.execute_reply.started": "2022-09-29T12:57:39.538235Z"
    }
   },
   "outputs": [],
   "source": [
    "# Initialize lemmatizer\n",
    "lemmatizer = WordNetLemmatizer()"
   ]
  },
  {
   "cell_type": "code",
   "execution_count": 29,
   "metadata": {
    "execution": {
     "iopub.execute_input": "2022-09-29T12:57:40.012534Z",
     "iopub.status.busy": "2022-09-29T12:57:40.011531Z",
     "iopub.status.idle": "2022-09-29T12:57:40.018105Z",
     "shell.execute_reply": "2022-09-29T12:57:40.016880Z",
     "shell.execute_reply.started": "2022-09-29T12:57:40.012489Z"
    }
   },
   "outputs": [],
   "source": [
    "# Function for lemmatization\n",
    "def lemmatize(words, lemmatizer):\n",
    "    lemma_words = [lemmatizer.lemmatize(word) for word in words]\n",
    "    return \" \".join(lemma_words)    "
   ]
  },
  {
   "cell_type": "code",
   "execution_count": 30,
   "metadata": {
    "execution": {
     "iopub.execute_input": "2022-09-29T12:57:40.488298Z",
     "iopub.status.busy": "2022-09-29T12:57:40.487841Z",
     "iopub.status.idle": "2022-09-29T12:57:41.831638Z",
     "shell.execute_reply": "2022-09-29T12:57:41.830333Z",
     "shell.execute_reply.started": "2022-09-29T12:57:40.488259Z"
    }
   },
   "outputs": [
    {
     "data": {
      "text/html": [
       "<div>\n",
       "<style scoped>\n",
       "    .dataframe tbody tr th:only-of-type {\n",
       "        vertical-align: middle;\n",
       "    }\n",
       "\n",
       "    .dataframe tbody tr th {\n",
       "        vertical-align: top;\n",
       "    }\n",
       "\n",
       "    .dataframe thead th {\n",
       "        text-align: right;\n",
       "    }\n",
       "</style>\n",
       "<table border=\"1\" class=\"dataframe\">\n",
       "  <thead>\n",
       "    <tr style=\"text-align: right;\">\n",
       "      <th></th>\n",
       "      <th>sentiment</th>\n",
       "      <th>message</th>\n",
       "      <th>tweetid</th>\n",
       "      <th>tokens</th>\n",
       "      <th>lemma</th>\n",
       "    </tr>\n",
       "  </thead>\n",
       "  <tbody>\n",
       "    <tr>\n",
       "      <th>0</th>\n",
       "      <td>1</td>\n",
       "      <td>polyscimajor epa chief doesnt think carbon dioxide is main cause of global warming and wait what urlweb via</td>\n",
       "      <td>625221</td>\n",
       "      <td>[polyscimajor, epa, chief, doesnt, think, carbon, dioxide, is, main, cause, of, global, warming, and, wait, what, urlweb, via]</td>\n",
       "      <td>polyscimajor epa chief doesnt think carbon dioxide is main cause of global warming and wait what urlweb via</td>\n",
       "    </tr>\n",
       "    <tr>\n",
       "      <th>1</th>\n",
       "      <td>1</td>\n",
       "      <td>its not like we lack evidence of anthropogenic global warming</td>\n",
       "      <td>126103</td>\n",
       "      <td>[its, not, like, we, lack, evidence, of, anthropogenic, global, warming]</td>\n",
       "      <td>it not like we lack evidence of anthropogenic global warming</td>\n",
       "    </tr>\n",
       "    <tr>\n",
       "      <th>2</th>\n",
       "      <td>2</td>\n",
       "      <td>rt researchers say we have three years to act on climate change before it s too late urlweb urlweb</td>\n",
       "      <td>698562</td>\n",
       "      <td>[rt, researchers, say, we, have, three, years, to, act, on, climate, change, before, it, s, too, late, urlweb, urlweb]</td>\n",
       "      <td>rt researcher say we have three year to act on climate change before it s too late urlweb urlweb</td>\n",
       "    </tr>\n",
       "    <tr>\n",
       "      <th>3</th>\n",
       "      <td>1</td>\n",
       "      <td>todayinmaker wired  was a pivotal year in the war on climate change urlweb</td>\n",
       "      <td>573736</td>\n",
       "      <td>[todayinmaker, wired, was, a, pivotal, year, in, the, war, on, climate, change, urlweb]</td>\n",
       "      <td>todayinmaker wired wa a pivotal year in the war on climate change urlweb</td>\n",
       "    </tr>\n",
       "    <tr>\n",
       "      <th>4</th>\n",
       "      <td>1</td>\n",
       "      <td>rt its  and a racist sexist climate change denying bigot is leading in the polls electionnight</td>\n",
       "      <td>466954</td>\n",
       "      <td>[rt, its, and, a, racist, sexist, climate, change, denying, bigot, is, leading, in, the, polls, electionnight]</td>\n",
       "      <td>rt it and a racist sexist climate change denying bigot is leading in the poll electionnight</td>\n",
       "    </tr>\n",
       "  </tbody>\n",
       "</table>\n",
       "</div>"
      ],
      "text/plain": [
       "   sentiment  \\\n",
       "0          1   \n",
       "1          1   \n",
       "2          2   \n",
       "3          1   \n",
       "4          1   \n",
       "\n",
       "                                                                                                        message  \\\n",
       "0  polyscimajor epa chief doesnt think carbon dioxide is main cause of global warming and wait what urlweb via    \n",
       "1                                                 its not like we lack evidence of anthropogenic global warming   \n",
       "2           rt researchers say we have three years to act on climate change before it s too late urlweb urlweb    \n",
       "3                                    todayinmaker wired  was a pivotal year in the war on climate change urlweb   \n",
       "4                rt its  and a racist sexist climate change denying bigot is leading in the polls electionnight   \n",
       "\n",
       "   tweetid  \\\n",
       "0   625221   \n",
       "1   126103   \n",
       "2   698562   \n",
       "3   573736   \n",
       "4   466954   \n",
       "\n",
       "                                                                                                                           tokens  \\\n",
       "0  [polyscimajor, epa, chief, doesnt, think, carbon, dioxide, is, main, cause, of, global, warming, and, wait, what, urlweb, via]   \n",
       "1                                                        [its, not, like, we, lack, evidence, of, anthropogenic, global, warming]   \n",
       "2          [rt, researchers, say, we, have, three, years, to, act, on, climate, change, before, it, s, too, late, urlweb, urlweb]   \n",
       "3                                         [todayinmaker, wired, was, a, pivotal, year, in, the, war, on, climate, change, urlweb]   \n",
       "4                  [rt, its, and, a, racist, sexist, climate, change, denying, bigot, is, leading, in, the, polls, electionnight]   \n",
       "\n",
       "                                                                                                         lemma  \n",
       "0  polyscimajor epa chief doesnt think carbon dioxide is main cause of global warming and wait what urlweb via  \n",
       "1                                                 it not like we lack evidence of anthropogenic global warming  \n",
       "2             rt researcher say we have three year to act on climate change before it s too late urlweb urlweb  \n",
       "3                                     todayinmaker wired wa a pivotal year in the war on climate change urlweb  \n",
       "4                  rt it and a racist sexist climate change denying bigot is leading in the poll electionnight  "
      ]
     },
     "execution_count": 30,
     "metadata": {},
     "output_type": "execute_result"
    }
   ],
   "source": [
    "# Apply lemma & check\n",
    "train['lemma'] = train['tokens'].apply(lemmatize, args=(lemmatizer, ))\n",
    "train.head()"
   ]
  },
  {
   "cell_type": "code",
   "execution_count": 31,
   "metadata": {
    "execution": {
     "iopub.execute_input": "2022-09-29T12:59:48.476386Z",
     "iopub.status.busy": "2022-09-29T12:59:48.475853Z",
     "iopub.status.idle": "2022-09-29T12:59:48.561848Z",
     "shell.execute_reply": "2022-09-29T12:59:48.560452Z",
     "shell.execute_reply.started": "2022-09-29T12:59:48.476342Z"
    }
   },
   "outputs": [
    {
     "data": {
      "text/plain": [
       "[('climate', 12963),\n",
       " ('change', 12645),\n",
       " ('rt', 9724),\n",
       " ('urlweb', 9658),\n",
       " ('the', 7764),\n",
       " ('to', 7203),\n",
       " ('a', 4988),\n",
       " ('is', 4399),\n",
       " ('of', 4226),\n",
       " ('global', 3779),\n",
       " ('in', 3707),\n",
       " ('warming', 3512),\n",
       " ('and', 3015),\n",
       " ('on', 2754),\n",
       " ('trump', 2414),\n",
       " ('it', 2162),\n",
       " ('for', 1994),\n",
       " ('about', 1811),\n",
       " ('that', 1601),\n",
       " ('we', 1552),\n",
       " ('you', 1481),\n",
       " ('are', 1377),\n",
       " ('i', 1348),\n",
       " ('believe', 1159),\n",
       " ('how', 1151),\n",
       " ('this', 1114),\n",
       " ('not', 1110),\n",
       " ('by', 1048),\n",
       " ('u', 1024),\n",
       " ('have', 992)]"
      ]
     },
     "execution_count": 31,
     "metadata": {},
     "output_type": "execute_result"
    }
   ],
   "source": [
    "# Re-look at most common words after lemma\n",
    "Most_common2 = Counter(\" \".join(train[\"lemma\"]).split()).most_common(30)\n",
    "Most_common2"
   ]
  },
  {
   "cell_type": "markdown",
   "metadata": {},
   "source": [
    "### Unbalanced ---> Balanced data\n",
    "Lets have a look at how balanced our data is"
   ]
  },
  {
   "cell_type": "code",
   "execution_count": 32,
   "metadata": {
    "execution": {
     "iopub.execute_input": "2022-09-28T16:06:33.866211Z",
     "iopub.status.busy": "2022-09-28T16:06:33.865351Z",
     "iopub.status.idle": "2022-09-28T16:06:34.069505Z",
     "shell.execute_reply": "2022-09-28T16:06:34.068612Z",
     "shell.execute_reply.started": "2022-09-28T16:06:33.866174Z"
    }
   },
   "outputs": [
    {
     "data": {
      "image/png": "[encoded data removed]",
      "text/plain": [
       "<Figure size 640x480 with 1 Axes>"
      ]
     },
     "metadata": {},
     "output_type": "display_data"
    }
   ],
   "source": [
    "# Histogram of 'sentiment' field - Class imbalance that needs to be adresed  (See 6_4 for this)\n",
    "Hist1 = train['sentiment'].value_counts().plot(kind = 'bar',title='Train data:  Sentiment', color = 'green')\n",
    "plt.show()"
   ]
  },
  {
   "cell_type": "markdown",
   "metadata": {},
   "source": [
    "Lets perform some upsampling to balance out our data - We have very few records for 0 & -1\\\n",
    "Lets upsample all items to the largest category"
   ]
  },
  {
   "cell_type": "code",
   "execution_count": 33,
   "metadata": {
    "execution": {
     "iopub.execute_input": "2022-09-29T12:58:53.831165Z",
     "iopub.status.busy": "2022-09-29T12:58:53.830721Z",
     "iopub.status.idle": "2022-09-29T12:58:53.851521Z",
     "shell.execute_reply": "2022-09-29T12:58:53.849081Z",
     "shell.execute_reply.started": "2022-09-29T12:58:53.831125Z"
    }
   },
   "outputs": [
    {
     "name": "stdout",
     "output_type": "stream",
     "text": [
      "0: %Pop:  0.1487451798470194  Total Records: 2353\n",
      "1: %Pop:  0.5392249826158417  Total Records: 8530\n",
      "2: %Pop:  0.23010304064732284  Total Records: 3640\n",
      "-1: %Pop:  0.08192679688981605  Total Records: 1296\n"
     ]
    }
   ],
   "source": [
    "# Count of each category\n",
    "sent_0 = train[train['sentiment']==0]\n",
    "sent_1 = train[train['sentiment']==1]\n",
    "sent_2 = train[train['sentiment']==2]\n",
    "sent_neg1 = train[train['sentiment']==-1]\n",
    "print(\"0: %Pop: \", len(sent_0)/len(train), \" Total Records:\", len(sent_0))\n",
    "print(\"1: %Pop: \",len(sent_1)/len(train), \" Total Records:\", len(sent_1))\n",
    "print(\"2: %Pop: \",len(sent_2)/len(train), \" Total Records:\", len(sent_2))\n",
    "print(\"-1: %Pop: \",len(sent_neg1)/len(train), \" Total Records:\", len(sent_neg1))"
   ]
  },
  {
   "cell_type": "code",
   "execution_count": 34,
   "metadata": {
    "execution": {
     "iopub.execute_input": "2022-09-29T12:58:54.089103Z",
     "iopub.status.busy": "2022-09-29T12:58:54.088441Z",
     "iopub.status.idle": "2022-09-29T12:58:54.096934Z",
     "shell.execute_reply": "2022-09-29T12:58:54.095538Z",
     "shell.execute_reply.started": "2022-09-29T12:58:54.089054Z"
    }
   },
   "outputs": [
    {
     "data": {
      "text/plain": [
       "8530"
      ]
     },
     "execution_count": 34,
     "metadata": {},
     "output_type": "execute_result"
    }
   ],
   "source": [
    "# Let's upsample all to 8530 - Set the class_size that we want\n",
    "class_size = 8530\n",
    "class_size"
   ]
  },
  {
   "cell_type": "markdown",
   "metadata": {},
   "source": [
    "Next, we have to upsample anything that has samples fewer than the the main class size."
   ]
  },
  {
   "cell_type": "code",
   "execution_count": 35,
   "metadata": {
    "execution": {
     "iopub.execute_input": "2022-09-29T12:58:57.644407Z",
     "iopub.status.busy": "2022-09-29T12:58:57.643984Z",
     "iopub.status.idle": "2022-09-29T12:58:57.669948Z",
     "shell.execute_reply": "2022-09-29T12:58:57.668713Z",
     "shell.execute_reply.started": "2022-09-29T12:58:57.644373Z"
    }
   },
   "outputs": [
    {
     "data": {
      "text/plain": [
       " 0    8530\n",
       " 2    8530\n",
       "-1    8530\n",
       " 1    8530\n",
       "Name: sentiment, dtype: int64"
      ]
     },
     "execution_count": 35,
     "metadata": {},
     "output_type": "execute_result"
    }
   ],
   "source": [
    "# Upsample minority & check sample sizes\n",
    "sent_0_upsampled = resample(sent_0,\n",
    "                          replace=True, # sample with replacement (we need to duplicate observations)\n",
    "                          n_samples=len(sent_1), # match number in minority class\n",
    "                          random_state=88) # reproducible results\n",
    "\n",
    "sent_2_upsampled = resample(sent_2,\n",
    "                          replace=True, # sample with replacement (we need to duplicate observations)\n",
    "                          n_samples=len(sent_1), # match number in minority class\n",
    "                          random_state=88) # reproducible results\n",
    "\n",
    "sent_neg1_upsampled = resample(sent_neg1,\n",
    "                          replace=True, # sample with replacement (we need to duplicate observations)\n",
    "                          n_samples=len(sent_1), # match number in minority class\n",
    "                          random_state=88) # reproducible results\n",
    "\n",
    "# Combine upsampled classes with majority class\n",
    "upsampled = pd.concat([sent_0_upsampled, sent_2_upsampled, sent_neg1_upsampled, sent_1])\n",
    "\n",
    "# Check new class counts\n",
    "upsampled['sentiment'].value_counts()"
   ]
  },
  {
   "cell_type": "code",
   "execution_count": 36,
   "metadata": {
    "execution": {
     "iopub.execute_input": "2022-09-29T12:56:41.542714Z",
     "iopub.status.busy": "2022-09-29T12:56:41.542221Z",
     "iopub.status.idle": "2022-09-29T12:56:41.763828Z",
     "shell.execute_reply": "2022-09-29T12:56:41.762497Z",
     "shell.execute_reply.started": "2022-09-29T12:56:41.542675Z"
    }
   },
   "outputs": [
    {
     "data": {
      "image/png": "[encoded data removed]",
      "text/plain": [
       "<Figure size 640x480 with 1 Axes>"
      ]
     },
     "metadata": {},
     "output_type": "display_data"
    }
   ],
   "source": [
    "# Histogram of 'sentiment' field after upsampling\n",
    "Hist2 = upsampled['sentiment'].value_counts().plot(kind = 'bar',title='Train data:  Sentiment (Post upsampling)',\\\n",
    "                                          color='purple')\n",
    "plt.show()"
   ]
  },
  {
   "cell_type": "markdown",
   "metadata": {},
   "source": [
    "Check: We should be sitting with 8530*4 records, i.e. 34120"
   ]
  },
  {
   "cell_type": "code",
   "execution_count": 37,
   "metadata": {
    "execution": {
     "iopub.execute_input": "2022-09-29T12:59:01.363118Z",
     "iopub.status.busy": "2022-09-29T12:59:01.362696Z",
     "iopub.status.idle": "2022-09-29T12:59:01.370432Z",
     "shell.execute_reply": "2022-09-29T12:59:01.369277Z",
     "shell.execute_reply.started": "2022-09-29T12:59:01.363084Z"
    }
   },
   "outputs": [
    {
     "data": {
      "text/plain": [
       "(34120, 5)"
      ]
     },
     "execution_count": 37,
     "metadata": {},
     "output_type": "execute_result"
    }
   ],
   "source": [
    "# Check shape\n",
    "upsampled.shape"
   ]
  },
  {
   "cell_type": "markdown",
   "metadata": {},
   "source": [
    "## Base Model\n",
    "Lets first create a baseline model against which we can compare our iterations of trying different models & model parameters"
   ]
  },
  {
   "cell_type": "markdown",
   "metadata": {},
   "source": [
    "### Response variable\n",
    "Lets first set our response variable as this wont change from one model to the next"
   ]
  },
  {
   "cell_type": "code",
   "execution_count": 38,
   "metadata": {
    "execution": {
     "iopub.execute_input": "2022-09-29T12:55:38.168847Z",
     "iopub.status.busy": "2022-09-29T12:55:38.167030Z",
     "iopub.status.idle": "2022-09-29T12:55:38.185001Z",
     "shell.execute_reply": "2022-09-29T12:55:38.182700Z",
     "shell.execute_reply.started": "2022-09-29T12:55:38.168779Z"
    }
   },
   "outputs": [
    {
     "data": {
      "text/plain": [
       "[0, 2, -1, 1]"
      ]
     },
     "execution_count": 38,
     "metadata": {},
     "output_type": "execute_result"
    }
   ],
   "source": [
    "# Set responce variable\n",
    "y = upsampled['sentiment']\n",
    "# Check the final labels - There should be 4 labels\n",
    "y_labels = list(upsampled['sentiment'].unique())\n",
    "y_labels"
   ]
  },
  {
   "cell_type": "markdown",
   "metadata": {},
   "source": [
    "### Count Vectorization\n",
    "Before we can feed our data into our machine learning model, we need to first transform the text into numbers. One common method well suited for this task is Count Vectorization."
   ]
  },
  {
   "cell_type": "code",
   "execution_count": 39,
   "metadata": {
    "execution": {
     "iopub.execute_input": "2022-09-29T11:15:16.665142Z",
     "iopub.status.busy": "2022-09-29T11:15:16.664738Z",
     "iopub.status.idle": "2022-09-29T11:15:17.324013Z",
     "shell.execute_reply": "2022-09-29T11:15:17.322671Z",
     "shell.execute_reply.started": "2022-09-29T11:15:16.665111Z"
    }
   },
   "outputs": [],
   "source": [
    "# Let's use the count vectorizer with its default hyperparameters\n",
    "vect = CountVectorizer()\n",
    "X_count = vect.fit_transform(upsampled['lemma'].values.astype(str))"
   ]
  },
  {
   "cell_type": "code",
   "execution_count": 40,
   "metadata": {
    "execution": {
     "iopub.execute_input": "2022-09-29T11:15:17.326094Z",
     "iopub.status.busy": "2022-09-29T11:15:17.325593Z",
     "iopub.status.idle": "2022-09-29T11:15:17.334059Z",
     "shell.execute_reply": "2022-09-29T11:15:17.332411Z",
     "shell.execute_reply.started": "2022-09-29T11:15:17.326060Z"
    }
   },
   "outputs": [
    {
     "data": {
      "text/plain": [
       "(34120, 14647)"
      ]
     },
     "execution_count": 40,
     "metadata": {},
     "output_type": "execute_result"
    }
   ],
   "source": [
    "# After vectorization we end up with 14647 fields\n",
    "X_count.shape"
   ]
  },
  {
   "cell_type": "markdown",
   "metadata": {},
   "source": [
    "The above tells us that we have around 15k different words, without setting any limitations. "
   ]
  },
  {
   "cell_type": "code",
   "execution_count": 41,
   "metadata": {
    "execution": {
     "iopub.execute_input": "2022-09-28T16:07:13.098777Z",
     "iopub.status.busy": "2022-09-28T16:07:13.098357Z",
     "iopub.status.idle": "2022-09-28T16:07:13.115624Z",
     "shell.execute_reply": "2022-09-28T16:07:13.114455Z",
     "shell.execute_reply.started": "2022-09-28T16:07:13.098744Z"
    }
   },
   "outputs": [
    {
     "data": {
      "text/plain": [
       "array(['aaa', 'aaaaaaaaaaa', 'aaaaaand', 'aaaaand', 'aaaand', 'aag',\n",
       "       'aampm', 'aan', 'ab', 'abaixoassinado'], dtype=object)"
      ]
     },
     "execution_count": 41,
     "metadata": {},
     "output_type": "execute_result"
    }
   ],
   "source": [
    "# Uncomment and run this line to see feature names\n",
    "vect.get_feature_names_out()[0:10]"
   ]
  },
  {
   "cell_type": "code",
   "execution_count": 42,
   "metadata": {
    "execution": {
     "iopub.execute_input": "2022-09-29T11:15:25.543392Z",
     "iopub.status.busy": "2022-09-29T11:15:25.542820Z",
     "iopub.status.idle": "2022-09-29T11:15:26.875023Z",
     "shell.execute_reply": "2022-09-29T11:15:26.873544Z",
     "shell.execute_reply.started": "2022-09-29T11:15:25.543347Z"
    }
   },
   "outputs": [
    {
     "data": {
      "text/plain": [
       "array([[0, 0, 0, ..., 0, 0, 0],\n",
       "       [0, 0, 0, ..., 0, 0, 0],\n",
       "       [0, 0, 0, ..., 0, 0, 0],\n",
       "       ...,\n",
       "       [0, 0, 0, ..., 0, 0, 0],\n",
       "       [0, 0, 0, ..., 0, 0, 0],\n",
       "       [0, 0, 0, ..., 0, 0, 0]], dtype=int64)"
      ]
     },
     "execution_count": 42,
     "metadata": {},
     "output_type": "execute_result"
    }
   ],
   "source": [
    "# Convert features to array\n",
    "X = X_count.toarray()\n",
    "X"
   ]
  },
  {
   "cell_type": "markdown",
   "metadata": {},
   "source": [
    "### Train/test split"
   ]
  },
  {
   "cell_type": "code",
   "execution_count": 43,
   "metadata": {
    "execution": {
     "iopub.execute_input": "2022-09-29T11:34:37.040369Z",
     "iopub.status.busy": "2022-09-29T11:34:37.039895Z",
     "iopub.status.idle": "2022-09-29T11:34:39.136183Z",
     "shell.execute_reply": "2022-09-29T11:34:39.134989Z",
     "shell.execute_reply.started": "2022-09-29T11:34:37.040331Z"
    }
   },
   "outputs": [],
   "source": [
    "# Train test split\n",
    "X_train, X_test, y_train, y_test = train_test_split(X, y, test_size=0.2, random_state=88)"
   ]
  },
  {
   "cell_type": "markdown",
   "metadata": {},
   "source": [
    "### Train model\n",
    "Sklearn's logistic regression model has the capacity to accommodate multiple classes, even though logistic regression is a binary classification model. One way it does this is through a [One vs Rest](https://chrisalbon.com/machine_learning/logistic_regression/one-vs-rest_logistic_regression/) scheme (i.e. one class vs the rest of the classes). This means that we split the multi-class classification problem into multiple binary classification problems as follows:\n",
    "\n",
    "- Class 1 and not Class 1\n",
    "- Class 2 and not Class 2\n",
    "- Class 3 and not Class 3\n",
    "-   ...          ...\n",
    "- Class n and not Class n\n",
    "\n",
    "And then train a logistic regression model for each of these. At test time, we run the same test data through all the models and take the prediction of the logistic regression model with the highest probability. "
   ]
  },
  {
   "cell_type": "code",
   "execution_count": 44,
   "metadata": {
    "execution": {
     "iopub.execute_input": "2022-09-29T11:15:40.665054Z",
     "iopub.status.busy": "2022-09-29T11:15:40.664374Z",
     "iopub.status.idle": "2022-09-29T11:15:40.670264Z",
     "shell.execute_reply": "2022-09-29T11:15:40.669086Z",
     "shell.execute_reply.started": "2022-09-29T11:15:40.665015Z"
    }
   },
   "outputs": [],
   "source": [
    "# Here 'ovr' indicates that we have selected our One-vs-Rest strategy. \n",
    "# Initialize & set parameters\n",
    "logreg = LogisticRegression(multi_class='ovr', max_iter=250, random_state=88)"
   ]
  },
  {
   "cell_type": "code",
   "execution_count": 45,
   "metadata": {
    "execution": {
     "iopub.execute_input": "2022-09-29T11:15:42.390991Z",
     "iopub.status.busy": "2022-09-29T11:15:42.390531Z",
     "iopub.status.idle": "2022-09-29T11:20:52.812613Z",
     "shell.execute_reply": "2022-09-29T11:20:52.809811Z",
     "shell.execute_reply.started": "2022-09-29T11:15:42.390954Z"
    }
   },
   "outputs": [
    {
     "data": {
      "text/html": [
       "<style>#sk-container-id-1 {color: black;background-color: white;}#sk-container-id-1 pre{padding: 0;}#sk-container-id-1 div.sk-toggleable {background-color: white;}#sk-container-id-1 label.sk-toggleable__label {cursor: pointer;display: block;width: 100%;margin-bottom: 0;padding: 0.3em;box-sizing: border-box;text-align: center;}#sk-container-id-1 label.sk-toggleable__label-arrow:before {content: \"▸\";float: left;margin-right: 0.25em;color: #696969;}#sk-container-id-1 label.sk-toggleable__label-arrow:hover:before {color: black;}#sk-container-id-1 div.sk-estimator:hover label.sk-toggleable__label-arrow:before {color: black;}#sk-container-id-1 div.sk-toggleable__content {max-height: 0;max-width: 0;overflow: hidden;text-align: left;background-color: #f0f8ff;}#sk-container-id-1 div.sk-toggleable__content pre {margin: 0.2em;color: black;border-radius: 0.25em;background-color: #f0f8ff;}#sk-container-id-1 input.sk-toggleable__control:checked~div.sk-toggleable__content {max-height: 200px;max-width: 100%;overflow: auto;}#sk-container-id-1 input.sk-toggleable__control:checked~label.sk-toggleable__label-arrow:before {content: \"▾\";}#sk-container-id-1 div.sk-estimator input.sk-toggleable__control:checked~label.sk-toggleable__label {background-color: #d4ebff;}#sk-container-id-1 div.sk-label input.sk-toggleable__control:checked~label.sk-toggleable__label {background-color: #d4ebff;}#sk-container-id-1 input.sk-hidden--visually {border: 0;clip: rect(1px 1px 1px 1px);clip: rect(1px, 1px, 1px, 1px);height: 1px;margin: -1px;overflow: hidden;padding: 0;position: absolute;width: 1px;}#sk-container-id-1 div.sk-estimator {font-family: monospace;background-color: #f0f8ff;border: 1px dotted black;border-radius: 0.25em;box-sizing: border-box;margin-bottom: 0.5em;}#sk-container-id-1 div.sk-estimator:hover {background-color: #d4ebff;}#sk-container-id-1 div.sk-parallel-item::after {content: \"\";width: 100%;border-bottom: 1px solid gray;flex-grow: 1;}#sk-container-id-1 div.sk-label:hover label.sk-toggleable__label {background-color: #d4ebff;}#sk-container-id-1 div.sk-serial::before {content: \"\";position: absolute;border-left: 1px solid gray;box-sizing: border-box;top: 0;bottom: 0;left: 50%;z-index: 0;}#sk-container-id-1 div.sk-serial {display: flex;flex-direction: column;align-items: center;background-color: white;padding-right: 0.2em;padding-left: 0.2em;position: relative;}#sk-container-id-1 div.sk-item {position: relative;z-index: 1;}#sk-container-id-1 div.sk-parallel {display: flex;align-items: stretch;justify-content: center;background-color: white;position: relative;}#sk-container-id-1 div.sk-item::before, #sk-container-id-1 div.sk-parallel-item::before {content: \"\";position: absolute;border-left: 1px solid gray;box-sizing: border-box;top: 0;bottom: 0;left: 50%;z-index: -1;}#sk-container-id-1 div.sk-parallel-item {display: flex;flex-direction: column;z-index: 1;position: relative;background-color: white;}#sk-container-id-1 div.sk-parallel-item:first-child::after {align-self: flex-end;width: 50%;}#sk-container-id-1 div.sk-parallel-item:last-child::after {align-self: flex-start;width: 50%;}#sk-container-id-1 div.sk-parallel-item:only-child::after {width: 0;}#sk-container-id-1 div.sk-dashed-wrapped {border: 1px dashed gray;margin: 0 0.4em 0.5em 0.4em;box-sizing: border-box;padding-bottom: 0.4em;background-color: white;}#sk-container-id-1 div.sk-label label {font-family: monospace;font-weight: bold;display: inline-block;line-height: 1.2em;}#sk-container-id-1 div.sk-label-container {text-align: center;}#sk-container-id-1 div.sk-container {/* jupyter's `normalize.less` sets `[hidden] { display: none; }` but bootstrap.min.css set `[hidden] { display: none !important; }` so we also need the `!important` here to be able to override the default hidden behavior on the sphinx rendered scikit-learn.org. See: https://github.com/scikit-learn/scikit-learn/issues/21755 */display: inline-block !important;position: relative;}#sk-container-id-1 div.sk-text-repr-fallback {display: none;}</style><div id=\"sk-container-id-1\" class=\"sk-top-container\"><div class=\"sk-text-repr-fallback\"><pre>LogisticRegression(max_iter=250, multi_class=&#x27;ovr&#x27;, random_state=88)</pre><b>In a Jupyter environment, please rerun this cell to show the HTML representation or trust the notebook. <br />On GitHub, the HTML representation is unable to render, please try loading this page with nbviewer.org.</b></div><div class=\"sk-container\" hidden><div class=\"sk-item\"><div class=\"sk-estimator sk-toggleable\"><input class=\"sk-toggleable__control sk-hidden--visually\" id=\"sk-estimator-id-1\" type=\"checkbox\" checked><label for=\"sk-estimator-id-1\" class=\"sk-toggleable__label sk-toggleable__label-arrow\">LogisticRegression</label><div class=\"sk-toggleable__content\"><pre>LogisticRegression(max_iter=250, multi_class=&#x27;ovr&#x27;, random_state=88)</pre></div></div></div></div></div>"
      ],
      "text/plain": [
       "LogisticRegression(max_iter=250, multi_class='ovr', random_state=88)"
      ]
     },
     "execution_count": 45,
     "metadata": {},
     "output_type": "execute_result"
    }
   ],
   "source": [
    "# Fit model\n",
    "logreg.fit(X_train, y_train)"
   ]
  },
  {
   "cell_type": "markdown",
   "metadata": {},
   "source": [
    "### Validate model on test set"
   ]
  },
  {
   "cell_type": "code",
   "execution_count": 46,
   "metadata": {
    "execution": {
     "iopub.execute_input": "2022-09-29T11:31:08.990638Z",
     "iopub.status.busy": "2022-09-29T11:31:08.989954Z",
     "iopub.status.idle": "2022-09-29T11:31:11.346964Z",
     "shell.execute_reply": "2022-09-29T11:31:11.345138Z",
     "shell.execute_reply.started": "2022-09-29T11:31:08.990573Z"
    }
   },
   "outputs": [],
   "source": [
    "# Logistic: Generate predictions - train\n",
    "y_pred_train_log = logreg.predict(X_train)"
   ]
  },
  {
   "cell_type": "code",
   "execution_count": 47,
   "metadata": {
    "execution": {
     "iopub.execute_input": "2022-09-29T11:31:11.394785Z",
     "iopub.status.busy": "2022-09-29T11:31:11.392766Z",
     "iopub.status.idle": "2022-09-29T11:31:11.833771Z",
     "shell.execute_reply": "2022-09-29T11:31:11.832127Z",
     "shell.execute_reply.started": "2022-09-29T11:31:11.394709Z"
    }
   },
   "outputs": [],
   "source": [
    "# Logistic: Generate predictions - test\n",
    "y_pred_test_log = logreg.predict(X_test)"
   ]
  },
  {
   "cell_type": "code",
   "execution_count": 48,
   "metadata": {
    "execution": {
     "iopub.execute_input": "2022-09-29T11:31:14.216385Z",
     "iopub.status.busy": "2022-09-29T11:31:14.215924Z",
     "iopub.status.idle": "2022-09-29T11:31:14.282505Z",
     "shell.execute_reply": "2022-09-29T11:31:14.281197Z",
     "shell.execute_reply.started": "2022-09-29T11:31:14.216348Z"
    }
   },
   "outputs": [
    {
     "name": "stdout",
     "output_type": "stream",
     "text": [
      "              precision    recall  f1-score   support\n",
      "\n",
      "          -1       0.97      0.98      0.97      6820\n",
      "           0       0.95      0.96      0.95      6847\n",
      "           1       0.96      0.89      0.92      6840\n",
      "           2       0.94      0.98      0.96      6789\n",
      "\n",
      "    accuracy                           0.95     27296\n",
      "   macro avg       0.95      0.95      0.95     27296\n",
      "weighted avg       0.95      0.95      0.95     27296\n",
      "\n"
     ]
    }
   ],
   "source": [
    "# Logistic train classification report\n",
    "print(classification_report(y_train, y_pred_train_log))"
   ]
  },
  {
   "cell_type": "code",
   "execution_count": 49,
   "metadata": {
    "execution": {
     "iopub.execute_input": "2022-09-29T11:31:16.321241Z",
     "iopub.status.busy": "2022-09-29T11:31:16.320331Z",
     "iopub.status.idle": "2022-09-29T11:31:16.346845Z",
     "shell.execute_reply": "2022-09-29T11:31:16.345569Z",
     "shell.execute_reply.started": "2022-09-29T11:31:16.321194Z"
    }
   },
   "outputs": [
    {
     "name": "stdout",
     "output_type": "stream",
     "text": [
      "              precision    recall  f1-score   support\n",
      "\n",
      "          -1       0.92      0.97      0.95      1710\n",
      "           0       0.87      0.91      0.89      1683\n",
      "           1       0.88      0.71      0.79      1690\n",
      "           2       0.88      0.95      0.91      1741\n",
      "\n",
      "    accuracy                           0.89      6824\n",
      "   macro avg       0.89      0.89      0.88      6824\n",
      "weighted avg       0.89      0.89      0.88      6824\n",
      "\n"
     ]
    }
   ],
   "source": [
    "# Logistic test classification report\n",
    "print(classification_report(y_test, y_pred_test_log))"
   ]
  },
  {
   "cell_type": "markdown",
   "metadata": {},
   "source": [
    "We have a really good prediction on both the train & test sets, with very little parameter tuning"
   ]
  },
  {
   "cell_type": "markdown",
   "metadata": {},
   "source": [
    "### Saving metrics for comet"
   ]
  },
  {
   "cell_type": "code",
   "execution_count": 54,
   "metadata": {
    "execution": {
     "iopub.execute_input": "2022-09-29T11:31:32.775778Z",
     "iopub.status.busy": "2022-09-29T11:31:32.775272Z",
     "iopub.status.idle": "2022-09-29T11:31:32.843910Z",
     "shell.execute_reply": "2022-09-29T11:31:32.842481Z",
     "shell.execute_reply.started": "2022-09-29T11:31:32.775740Z"
    }
   },
   "outputs": [
    {
     "name": "stdout",
     "output_type": "stream",
     "text": [
      "Base model Train precision f1 & recall:  0.9519256229767487 0.9514284074542546 0.9518678354543203\n",
      "Base model Test precision f1 & recall:  0.886446469804745 0.883394486441239 0.8861449514331365\n"
     ]
    }
   ],
   "source": [
    "# Saving each metric to add to a dictionary for logging - Logistic\n",
    "precision_train_orig = precision_score(y_train, y_pred_train_log, average='macro')\n",
    "f1_train_orig = f1_score(y_train, y_pred_train_log, average='macro')\n",
    "recall_train_orig = recall_score(y_train, y_pred_train_log, average='macro')\n",
    "print(\"Base model Train precision f1 & recall: \", precision_train_orig,f1_train_orig,recall_train_orig)\n",
    "\n",
    "precision_test_orig = precision_score(y_test, y_pred_test_log, average='macro')\n",
    "f1_test_orig = f1_score(y_test, y_pred_test_log, average='macro')\n",
    "recall_test_orig = recall_score(y_test, y_pred_test_log, average='macro')\n",
    "print(\"Base model Test precision f1 & recall: \", precision_test_orig,f1_test_orig,recall_test_orig)"
   ]
  },
  {
   "cell_type": "code",
   "execution_count": 61,
   "metadata": {},
   "outputs": [
    {
     "name": "stdout",
     "output_type": "stream",
     "text": [
      "         pred:-1  pred:0  pred:1  pred:2\n",
      "true:-1     6692      62      48      18\n",
      "true:0        81    6548     154      64\n",
      "true:1       149     293    6061     337\n",
      "true:2        12      17      81    6679\n"
     ]
    }
   ],
   "source": [
    "# Confusion Matrix: Logistic Train set original\n",
    "unique_label = np.unique([y_train, y_pred_train_log])\n",
    "cmtx_log_train = pd.DataFrame(\n",
    "    confusion_matrix(y_train, y_pred_train_log, labels=unique_label), \n",
    "    index=['true:{:}'.format(x) for x in unique_label], \n",
    "    columns=['pred:{:}'.format(x) for x in unique_label]\n",
    ")\n",
    "print(cmtx_log_train)"
   ]
  },
  {
   "cell_type": "code",
   "execution_count": 76,
   "metadata": {},
   "outputs": [
    {
     "name": "stderr",
     "output_type": "stream",
     "text": [
      "C:\\Users\\nb205174\\AppData\\Local\\Temp\\ipykernel_20028\\2534886913.py:3: FutureWarning: Support for multi-dimensional indexing (e.g. `obj[:, None]`) is deprecated and will be removed in a future version.  Convert to a numpy array before indexing instead.\n",
      "  cmn = cmtx_log_train.astype('float') / cmtx_log_train.sum(axis=1)[:, np.newaxis]\n"
     ]
    },
    {
     "data": {
      "image/png": "[encoded data removed]",
      "text/plain": [
       "<Figure size 1000x500 with 2 Axes>"
      ]
     },
     "metadata": {},
     "output_type": "display_data"
    }
   ],
   "source": [
    "# Plot Train dataset confusion matrix\n",
    "# Normalise\n",
    "cmn = cmtx_log_train.astype('float') / cmtx_log_train.sum(axis=1)[:, np.newaxis]\n",
    "fig, ax = plt.subplots(figsize=(10,5))\n",
    "sns.heatmap(cmn, annot=True, fmt='.2f', xticklabels=unique_label, yticklabels=unique_label)\n",
    "plt.title('Train dataset confusion matrix')\n",
    "plt.ylabel('Actual')\n",
    "plt.xlabel('Predicted')\n",
    "plt.show(block=False)"
   ]
  },
  {
   "cell_type": "code",
   "execution_count": 72,
   "metadata": {},
   "outputs": [
    {
     "name": "stdout",
     "output_type": "stream",
     "text": [
      "         pred:-1  pred:0  pred:1  pred:2\n",
      "true:-1     1667      17      20       6\n",
      "true:0        48    1526      81      28\n",
      "true:1        90     196    1203     201\n",
      "true:2         4      18      63    1656\n"
     ]
    }
   ],
   "source": [
    "# Confusion Matrix: Logistic Test set original\n",
    "unique_label = np.unique([y_test, y_pred_test_log])\n",
    "cmtx_log = pd.DataFrame(\n",
    "    confusion_matrix(y_test, y_pred_test_log, labels=unique_label), \n",
    "    index=['true:{:}'.format(x) for x in unique_label], \n",
    "    columns=['pred:{:}'.format(x) for x in unique_label]\n",
    ")\n",
    "print(cmtx_log)"
   ]
  },
  {
   "cell_type": "code",
   "execution_count": 75,
   "metadata": {},
   "outputs": [
    {
     "name": "stderr",
     "output_type": "stream",
     "text": [
      "C:\\Users\\nb205174\\AppData\\Local\\Temp\\ipykernel_20028\\2182392978.py:3: FutureWarning: Support for multi-dimensional indexing (e.g. `obj[:, None]`) is deprecated and will be removed in a future version.  Convert to a numpy array before indexing instead.\n",
      "  cmn = cmtx_log.astype('float') / cmtx_log.sum(axis=1)[:, np.newaxis]\n"
     ]
    },
    {
     "data": {
      "image/png": "[encoded data removed]",
      "text/plain": [
       "<Figure size 1000x500 with 2 Axes>"
      ]
     },
     "metadata": {},
     "output_type": "display_data"
    }
   ],
   "source": [
    "# Plot Train dataset confusion matrix\n",
    "# Normalise\n",
    "cmn = cmtx_log.astype('float') / cmtx_log.sum(axis=1)[:, np.newaxis]\n",
    "fig, ax = plt.subplots(figsize=(10,5))\n",
    "sns.heatmap(cmn, annot=True, fmt='.2f', xticklabels=unique_label, yticklabels=unique_label)\n",
    "plt.title('Test dataset confusion matrix')\n",
    "plt.ylabel('Actual')\n",
    "plt.xlabel('Predicted')\n",
    "plt.show(block=False)"
   ]
  },
  {
   "cell_type": "markdown",
   "metadata": {},
   "source": [
    "## Comparison models:  Now lets try making some adjustments"
   ]
  },
  {
   "cell_type": "markdown",
   "metadata": {},
   "source": [
    "Lets have a look at excluding some stop words in the vectorizer:"
   ]
  },
  {
   "cell_type": "code",
   "execution_count": 89,
   "metadata": {
    "execution": {
     "iopub.execute_input": "2022-09-29T12:59:21.106926Z",
     "iopub.status.busy": "2022-09-29T12:59:21.106445Z",
     "iopub.status.idle": "2022-09-29T12:59:21.758427Z",
     "shell.execute_reply": "2022-09-29T12:59:21.757062Z",
     "shell.execute_reply.started": "2022-09-29T12:59:21.106881Z"
    }
   },
   "outputs": [],
   "source": [
    "#Lets making some stopword exclusions\n",
    "#exclude_list = ['http', 'htt', 'i', 'me','you','we','the','to','of','a','in','and','it','for','that','on']\n",
    "vect_excl = CountVectorizer(analyzer='word',  stop_words='english')\n",
    "X_count2 = vect_excl.fit_transform(upsampled['lemma'].values.astype(str))\n",
    "#ngram_range=(2, 8), max_features=20000,\n",
    "#stop_words = exclude_list"
   ]
  },
  {
   "cell_type": "code",
   "execution_count": 90,
   "metadata": {
    "execution": {
     "iopub.execute_input": "2022-09-29T12:59:28.216174Z",
     "iopub.status.busy": "2022-09-29T12:59:28.215223Z",
     "iopub.status.idle": "2022-09-29T12:59:28.224948Z",
     "shell.execute_reply": "2022-09-29T12:59:28.223516Z",
     "shell.execute_reply.started": "2022-09-29T12:59:28.216121Z"
    }
   },
   "outputs": [
    {
     "data": {
      "text/plain": [
       "(34120, 14370)"
      ]
     },
     "execution_count": 90,
     "metadata": {},
     "output_type": "execute_result"
    }
   ],
   "source": [
    "X_count2.shape"
   ]
  },
  {
   "cell_type": "code",
   "execution_count": 92,
   "metadata": {
    "execution": {
     "iopub.execute_input": "2022-09-29T11:33:28.236341Z",
     "iopub.status.busy": "2022-09-29T11:33:28.235904Z",
     "iopub.status.idle": "2022-09-29T11:33:28.244457Z",
     "shell.execute_reply": "2022-09-29T11:33:28.243136Z",
     "shell.execute_reply.started": "2022-09-29T11:33:28.236291Z"
    }
   },
   "outputs": [
    {
     "data": {
      "text/plain": [
       "'english'"
      ]
     },
     "execution_count": 92,
     "metadata": {},
     "output_type": "execute_result"
    }
   ],
   "source": [
    "# This is to check what words were excluded\n",
    "vect_excl.stop_words"
   ]
  },
  {
   "cell_type": "code",
   "execution_count": 93,
   "metadata": {
    "execution": {
     "iopub.execute_input": "2022-09-29T13:00:12.920064Z",
     "iopub.status.busy": "2022-09-29T13:00:12.919603Z",
     "iopub.status.idle": "2022-09-29T13:00:14.400839Z",
     "shell.execute_reply": "2022-09-29T13:00:14.399391Z",
     "shell.execute_reply.started": "2022-09-29T13:00:12.920029Z"
    }
   },
   "outputs": [
    {
     "data": {
      "text/plain": [
       "array([[0, 0, 0, ..., 0, 0, 0],\n",
       "       [0, 0, 0, ..., 0, 0, 0],\n",
       "       [0, 0, 0, ..., 0, 0, 0],\n",
       "       ...,\n",
       "       [0, 0, 0, ..., 0, 0, 0],\n",
       "       [0, 0, 0, ..., 0, 0, 0],\n",
       "       [0, 0, 0, ..., 0, 0, 0]], dtype=int64)"
      ]
     },
     "execution_count": 93,
     "metadata": {},
     "output_type": "execute_result"
    }
   ],
   "source": [
    "# Convert features to array\n",
    "X2 = X_count2.toarray()\n",
    "X2"
   ]
  },
  {
   "cell_type": "markdown",
   "metadata": {},
   "source": [
    "### Train/test split"
   ]
  },
  {
   "cell_type": "code",
   "execution_count": 94,
   "metadata": {
    "execution": {
     "iopub.execute_input": "2022-09-29T13:00:41.012276Z",
     "iopub.status.busy": "2022-09-29T13:00:41.011215Z",
     "iopub.status.idle": "2022-09-29T13:00:42.816564Z",
     "shell.execute_reply": "2022-09-29T13:00:42.815352Z",
     "shell.execute_reply.started": "2022-09-29T13:00:41.012219Z"
    }
   },
   "outputs": [],
   "source": [
    "X_train2, X_test2, y_train2, y_test2 = train_test_split(X2, y, test_size=0.2, random_state=88)"
   ]
  },
  {
   "cell_type": "markdown",
   "metadata": {},
   "source": [
    "### Train model\n"
   ]
  },
  {
   "cell_type": "markdown",
   "metadata": {},
   "source": [
    "#### 1. Logistic Regression (One-vs-Rest)"
   ]
  },
  {
   "cell_type": "code",
   "execution_count": null,
   "metadata": {},
   "outputs": [],
   "source": [
    "# Here 'ovr' indicates that we have selected our One-vs-Rest strategy. \n",
    "# Initialize & set parameters\n",
    "logreg2 = LogisticRegression(multi_class='ovr', max_iter=250, random_state=88)"
   ]
  },
  {
   "cell_type": "code",
   "execution_count": 95,
   "metadata": {
    "execution": {
     "iopub.execute_input": "2022-09-29T13:00:48.012117Z",
     "iopub.status.busy": "2022-09-29T13:00:48.011087Z",
     "iopub.status.idle": "2022-09-29T13:04:51.655199Z",
     "shell.execute_reply": "2022-09-29T13:04:51.652930Z",
     "shell.execute_reply.started": "2022-09-29T13:00:48.012068Z"
    }
   },
   "outputs": [
    {
     "data": {
      "text/html": [
       "<style>#sk-container-id-5 {color: black;background-color: white;}#sk-container-id-5 pre{padding: 0;}#sk-container-id-5 div.sk-toggleable {background-color: white;}#sk-container-id-5 label.sk-toggleable__label {cursor: pointer;display: block;width: 100%;margin-bottom: 0;padding: 0.3em;box-sizing: border-box;text-align: center;}#sk-container-id-5 label.sk-toggleable__label-arrow:before {content: \"▸\";float: left;margin-right: 0.25em;color: #696969;}#sk-container-id-5 label.sk-toggleable__label-arrow:hover:before {color: black;}#sk-container-id-5 div.sk-estimator:hover label.sk-toggleable__label-arrow:before {color: black;}#sk-container-id-5 div.sk-toggleable__content {max-height: 0;max-width: 0;overflow: hidden;text-align: left;background-color: #f0f8ff;}#sk-container-id-5 div.sk-toggleable__content pre {margin: 0.2em;color: black;border-radius: 0.25em;background-color: #f0f8ff;}#sk-container-id-5 input.sk-toggleable__control:checked~div.sk-toggleable__content {max-height: 200px;max-width: 100%;overflow: auto;}#sk-container-id-5 input.sk-toggleable__control:checked~label.sk-toggleable__label-arrow:before {content: \"▾\";}#sk-container-id-5 div.sk-estimator input.sk-toggleable__control:checked~label.sk-toggleable__label {background-color: #d4ebff;}#sk-container-id-5 div.sk-label input.sk-toggleable__control:checked~label.sk-toggleable__label {background-color: #d4ebff;}#sk-container-id-5 input.sk-hidden--visually {border: 0;clip: rect(1px 1px 1px 1px);clip: rect(1px, 1px, 1px, 1px);height: 1px;margin: -1px;overflow: hidden;padding: 0;position: absolute;width: 1px;}#sk-container-id-5 div.sk-estimator {font-family: monospace;background-color: #f0f8ff;border: 1px dotted black;border-radius: 0.25em;box-sizing: border-box;margin-bottom: 0.5em;}#sk-container-id-5 div.sk-estimator:hover {background-color: #d4ebff;}#sk-container-id-5 div.sk-parallel-item::after {content: \"\";width: 100%;border-bottom: 1px solid gray;flex-grow: 1;}#sk-container-id-5 div.sk-label:hover label.sk-toggleable__label {background-color: #d4ebff;}#sk-container-id-5 div.sk-serial::before {content: \"\";position: absolute;border-left: 1px solid gray;box-sizing: border-box;top: 0;bottom: 0;left: 50%;z-index: 0;}#sk-container-id-5 div.sk-serial {display: flex;flex-direction: column;align-items: center;background-color: white;padding-right: 0.2em;padding-left: 0.2em;position: relative;}#sk-container-id-5 div.sk-item {position: relative;z-index: 1;}#sk-container-id-5 div.sk-parallel {display: flex;align-items: stretch;justify-content: center;background-color: white;position: relative;}#sk-container-id-5 div.sk-item::before, #sk-container-id-5 div.sk-parallel-item::before {content: \"\";position: absolute;border-left: 1px solid gray;box-sizing: border-box;top: 0;bottom: 0;left: 50%;z-index: -1;}#sk-container-id-5 div.sk-parallel-item {display: flex;flex-direction: column;z-index: 1;position: relative;background-color: white;}#sk-container-id-5 div.sk-parallel-item:first-child::after {align-self: flex-end;width: 50%;}#sk-container-id-5 div.sk-parallel-item:last-child::after {align-self: flex-start;width: 50%;}#sk-container-id-5 div.sk-parallel-item:only-child::after {width: 0;}#sk-container-id-5 div.sk-dashed-wrapped {border: 1px dashed gray;margin: 0 0.4em 0.5em 0.4em;box-sizing: border-box;padding-bottom: 0.4em;background-color: white;}#sk-container-id-5 div.sk-label label {font-family: monospace;font-weight: bold;display: inline-block;line-height: 1.2em;}#sk-container-id-5 div.sk-label-container {text-align: center;}#sk-container-id-5 div.sk-container {/* jupyter's `normalize.less` sets `[hidden] { display: none; }` but bootstrap.min.css set `[hidden] { display: none !important; }` so we also need the `!important` here to be able to override the default hidden behavior on the sphinx rendered scikit-learn.org. See: https://github.com/scikit-learn/scikit-learn/issues/21755 */display: inline-block !important;position: relative;}#sk-container-id-5 div.sk-text-repr-fallback {display: none;}</style><div id=\"sk-container-id-5\" class=\"sk-top-container\"><div class=\"sk-text-repr-fallback\"><pre>LogisticRegression(max_iter=250, multi_class=&#x27;ovr&#x27;, random_state=88)</pre><b>In a Jupyter environment, please rerun this cell to show the HTML representation or trust the notebook. <br />On GitHub, the HTML representation is unable to render, please try loading this page with nbviewer.org.</b></div><div class=\"sk-container\" hidden><div class=\"sk-item\"><div class=\"sk-estimator sk-toggleable\"><input class=\"sk-toggleable__control sk-hidden--visually\" id=\"sk-estimator-id-5\" type=\"checkbox\" checked><label for=\"sk-estimator-id-5\" class=\"sk-toggleable__label sk-toggleable__label-arrow\">LogisticRegression</label><div class=\"sk-toggleable__content\"><pre>LogisticRegression(max_iter=250, multi_class=&#x27;ovr&#x27;, random_state=88)</pre></div></div></div></div></div>"
      ],
      "text/plain": [
       "LogisticRegression(max_iter=250, multi_class='ovr', random_state=88)"
      ]
     },
     "execution_count": 95,
     "metadata": {},
     "output_type": "execute_result"
    }
   ],
   "source": [
    "# Fit model\n",
    "logreg2.fit(X_train2, y_train2)"
   ]
  },
  {
   "cell_type": "markdown",
   "metadata": {},
   "source": [
    "#### 2. Naive Bayes Model - Multinomial\n",
    " - Naive Bayes is suitable for solving multi-class prediction problems. If its assumption of the independence of features holds true, it can perform better than other models and requires much less training data. Naive Bayes is better suited for categorical input variables than numerical variables.\n",
    " - Multinomial Naive Bayes classifier is a specific instance of a Naive Bayes classifier which uses a multinomial distribution for each of the features."
   ]
  },
  {
   "cell_type": "code",
   "execution_count": 96,
   "metadata": {
    "execution": {
     "iopub.execute_input": "2022-09-29T12:27:06.829252Z",
     "iopub.status.busy": "2022-09-29T12:27:06.828443Z",
     "iopub.status.idle": "2022-09-29T12:27:06.835023Z",
     "shell.execute_reply": "2022-09-29T12:27:06.833512Z",
     "shell.execute_reply.started": "2022-09-29T12:27:06.829205Z"
    }
   },
   "outputs": [],
   "source": [
    "# Initialize Naive Bayes\n",
    "NB_model = MultinomialNB()"
   ]
  },
  {
   "cell_type": "code",
   "execution_count": 97,
   "metadata": {
    "execution": {
     "iopub.execute_input": "2022-09-29T12:27:08.480482Z",
     "iopub.status.busy": "2022-09-29T12:27:08.480012Z",
     "iopub.status.idle": "2022-09-29T12:27:23.837809Z",
     "shell.execute_reply": "2022-09-29T12:27:23.836087Z",
     "shell.execute_reply.started": "2022-09-29T12:27:08.480442Z"
    }
   },
   "outputs": [
    {
     "data": {
      "text/html": [
       "<style>#sk-container-id-6 {color: black;background-color: white;}#sk-container-id-6 pre{padding: 0;}#sk-container-id-6 div.sk-toggleable {background-color: white;}#sk-container-id-6 label.sk-toggleable__label {cursor: pointer;display: block;width: 100%;margin-bottom: 0;padding: 0.3em;box-sizing: border-box;text-align: center;}#sk-container-id-6 label.sk-toggleable__label-arrow:before {content: \"▸\";float: left;margin-right: 0.25em;color: #696969;}#sk-container-id-6 label.sk-toggleable__label-arrow:hover:before {color: black;}#sk-container-id-6 div.sk-estimator:hover label.sk-toggleable__label-arrow:before {color: black;}#sk-container-id-6 div.sk-toggleable__content {max-height: 0;max-width: 0;overflow: hidden;text-align: left;background-color: #f0f8ff;}#sk-container-id-6 div.sk-toggleable__content pre {margin: 0.2em;color: black;border-radius: 0.25em;background-color: #f0f8ff;}#sk-container-id-6 input.sk-toggleable__control:checked~div.sk-toggleable__content {max-height: 200px;max-width: 100%;overflow: auto;}#sk-container-id-6 input.sk-toggleable__control:checked~label.sk-toggleable__label-arrow:before {content: \"▾\";}#sk-container-id-6 div.sk-estimator input.sk-toggleable__control:checked~label.sk-toggleable__label {background-color: #d4ebff;}#sk-container-id-6 div.sk-label input.sk-toggleable__control:checked~label.sk-toggleable__label {background-color: #d4ebff;}#sk-container-id-6 input.sk-hidden--visually {border: 0;clip: rect(1px 1px 1px 1px);clip: rect(1px, 1px, 1px, 1px);height: 1px;margin: -1px;overflow: hidden;padding: 0;position: absolute;width: 1px;}#sk-container-id-6 div.sk-estimator {font-family: monospace;background-color: #f0f8ff;border: 1px dotted black;border-radius: 0.25em;box-sizing: border-box;margin-bottom: 0.5em;}#sk-container-id-6 div.sk-estimator:hover {background-color: #d4ebff;}#sk-container-id-6 div.sk-parallel-item::after {content: \"\";width: 100%;border-bottom: 1px solid gray;flex-grow: 1;}#sk-container-id-6 div.sk-label:hover label.sk-toggleable__label {background-color: #d4ebff;}#sk-container-id-6 div.sk-serial::before {content: \"\";position: absolute;border-left: 1px solid gray;box-sizing: border-box;top: 0;bottom: 0;left: 50%;z-index: 0;}#sk-container-id-6 div.sk-serial {display: flex;flex-direction: column;align-items: center;background-color: white;padding-right: 0.2em;padding-left: 0.2em;position: relative;}#sk-container-id-6 div.sk-item {position: relative;z-index: 1;}#sk-container-id-6 div.sk-parallel {display: flex;align-items: stretch;justify-content: center;background-color: white;position: relative;}#sk-container-id-6 div.sk-item::before, #sk-container-id-6 div.sk-parallel-item::before {content: \"\";position: absolute;border-left: 1px solid gray;box-sizing: border-box;top: 0;bottom: 0;left: 50%;z-index: -1;}#sk-container-id-6 div.sk-parallel-item {display: flex;flex-direction: column;z-index: 1;position: relative;background-color: white;}#sk-container-id-6 div.sk-parallel-item:first-child::after {align-self: flex-end;width: 50%;}#sk-container-id-6 div.sk-parallel-item:last-child::after {align-self: flex-start;width: 50%;}#sk-container-id-6 div.sk-parallel-item:only-child::after {width: 0;}#sk-container-id-6 div.sk-dashed-wrapped {border: 1px dashed gray;margin: 0 0.4em 0.5em 0.4em;box-sizing: border-box;padding-bottom: 0.4em;background-color: white;}#sk-container-id-6 div.sk-label label {font-family: monospace;font-weight: bold;display: inline-block;line-height: 1.2em;}#sk-container-id-6 div.sk-label-container {text-align: center;}#sk-container-id-6 div.sk-container {/* jupyter's `normalize.less` sets `[hidden] { display: none; }` but bootstrap.min.css set `[hidden] { display: none !important; }` so we also need the `!important` here to be able to override the default hidden behavior on the sphinx rendered scikit-learn.org. See: https://github.com/scikit-learn/scikit-learn/issues/21755 */display: inline-block !important;position: relative;}#sk-container-id-6 div.sk-text-repr-fallback {display: none;}</style><div id=\"sk-container-id-6\" class=\"sk-top-container\"><div class=\"sk-text-repr-fallback\"><pre>MultinomialNB()</pre><b>In a Jupyter environment, please rerun this cell to show the HTML representation or trust the notebook. <br />On GitHub, the HTML representation is unable to render, please try loading this page with nbviewer.org.</b></div><div class=\"sk-container\" hidden><div class=\"sk-item\"><div class=\"sk-estimator sk-toggleable\"><input class=\"sk-toggleable__control sk-hidden--visually\" id=\"sk-estimator-id-6\" type=\"checkbox\" checked><label for=\"sk-estimator-id-6\" class=\"sk-toggleable__label sk-toggleable__label-arrow\">MultinomialNB</label><div class=\"sk-toggleable__content\"><pre>MultinomialNB()</pre></div></div></div></div></div>"
      ],
      "text/plain": [
       "MultinomialNB()"
      ]
     },
     "execution_count": 97,
     "metadata": {},
     "output_type": "execute_result"
    }
   ],
   "source": [
    "# Fit model\n",
    "NB_model.fit(X_train2, y_train2)"
   ]
  },
  {
   "cell_type": "markdown",
   "metadata": {},
   "source": [
    "### Perform predictions"
   ]
  },
  {
   "cell_type": "code",
   "execution_count": 98,
   "metadata": {
    "execution": {
     "iopub.execute_input": "2022-09-29T13:12:39.797784Z",
     "iopub.status.busy": "2022-09-29T13:12:39.797142Z"
    }
   },
   "outputs": [],
   "source": [
    "# Logistic: Generate predictions - train\n",
    "y_pred_train_log2 = logreg2.predict(X_train2)"
   ]
  },
  {
   "cell_type": "code",
   "execution_count": 99,
   "metadata": {},
   "outputs": [],
   "source": [
    "# Logistic: Generate predictions - test\n",
    "y_pred_test_log2 = logreg2.predict(X_test2)"
   ]
  },
  {
   "cell_type": "code",
   "execution_count": 100,
   "metadata": {
    "execution": {
     "iopub.execute_input": "2022-09-29T12:33:41.278940Z",
     "iopub.status.busy": "2022-09-29T12:33:41.278437Z",
     "iopub.status.idle": "2022-09-29T12:33:43.479626Z",
     "shell.execute_reply": "2022-09-29T12:33:43.478342Z",
     "shell.execute_reply.started": "2022-09-29T12:33:41.278902Z"
    }
   },
   "outputs": [],
   "source": [
    "# NB: Generate predictions - train\n",
    "y_pred_train_NB = NB_model.predict(X_train2)"
   ]
  },
  {
   "cell_type": "code",
   "execution_count": 101,
   "metadata": {
    "execution": {
     "iopub.execute_input": "2022-09-29T12:33:43.482010Z",
     "iopub.status.busy": "2022-09-29T12:33:43.481606Z",
     "iopub.status.idle": "2022-09-29T12:33:43.922064Z",
     "shell.execute_reply": "2022-09-29T12:33:43.913076Z",
     "shell.execute_reply.started": "2022-09-29T12:33:43.481974Z"
    }
   },
   "outputs": [],
   "source": [
    "# NB: Generate predictions - test\n",
    "y_pred_test_NB = NB_model.predict(X_test2)"
   ]
  },
  {
   "cell_type": "markdown",
   "metadata": {},
   "source": [
    "### Validate model on test set"
   ]
  },
  {
   "cell_type": "markdown",
   "metadata": {},
   "source": [
    "Base model had f1 scores of 0.95 & 0.89 for train & test respectively\\\n",
    "Here we have a slightly lower f1 score for train & more or less similar f1 for test\\\n",
    "Not much improvement between train & test to justify removal of stopwords"
   ]
  },
  {
   "cell_type": "code",
   "execution_count": 102,
   "metadata": {
    "execution": {
     "iopub.execute_input": "2022-09-29T13:13:02.024028Z",
     "iopub.status.busy": "2022-09-29T13:13:02.023071Z",
     "iopub.status.idle": "2022-09-29T13:13:02.124112Z",
     "shell.execute_reply": "2022-09-29T13:13:02.122400Z",
     "shell.execute_reply.started": "2022-09-29T13:13:02.023891Z"
    }
   },
   "outputs": [
    {
     "name": "stdout",
     "output_type": "stream",
     "text": [
      "              precision    recall  f1-score   support\n",
      "\n",
      "          -1       0.96      0.97      0.97      6820\n",
      "           0       0.94      0.95      0.94      6847\n",
      "           1       0.95      0.88      0.91      6840\n",
      "           2       0.93      0.98      0.95      6789\n",
      "\n",
      "    accuracy                           0.94     27296\n",
      "   macro avg       0.94      0.94      0.94     27296\n",
      "weighted avg       0.94      0.94      0.94     27296\n",
      "\n"
     ]
    }
   ],
   "source": [
    "# Logistic\n",
    "# Had 0.95 with vect (including all with default parameters)\n",
    "print(classification_report(y_train2, y_pred_train_log2))"
   ]
  },
  {
   "cell_type": "code",
   "execution_count": 103,
   "metadata": {
    "execution": {
     "iopub.execute_input": "2022-09-29T12:26:48.235798Z",
     "iopub.status.busy": "2022-09-29T12:26:48.235379Z",
     "iopub.status.idle": "2022-09-29T12:26:48.267122Z",
     "shell.execute_reply": "2022-09-29T12:26:48.265699Z",
     "shell.execute_reply.started": "2022-09-29T12:26:48.235757Z"
    }
   },
   "outputs": [
    {
     "name": "stdout",
     "output_type": "stream",
     "text": [
      "              precision    recall  f1-score   support\n",
      "\n",
      "          -1       0.92      0.96      0.94      1710\n",
      "           0       0.86      0.91      0.88      1683\n",
      "           1       0.86      0.70      0.78      1690\n",
      "           2       0.87      0.94      0.90      1741\n",
      "\n",
      "    accuracy                           0.88      6824\n",
      "   macro avg       0.88      0.88      0.87      6824\n",
      "weighted avg       0.88      0.88      0.87      6824\n",
      "\n"
     ]
    }
   ],
   "source": [
    "# Logistic test dataset\n",
    "# Had 0.89 with vect (including all with default parameters)\n",
    "print(classification_report(y_test2, y_pred_test_log2))"
   ]
  },
  {
   "cell_type": "markdown",
   "metadata": {},
   "source": [
    "For naive bayes we are getting much lower f1 scores on both train & test set\\\n",
    "No reason to use this model"
   ]
  },
  {
   "cell_type": "code",
   "execution_count": 104,
   "metadata": {
    "execution": {
     "iopub.execute_input": "2022-09-29T12:34:05.782548Z",
     "iopub.status.busy": "2022-09-29T12:34:05.782003Z",
     "iopub.status.idle": "2022-09-29T12:34:05.849836Z",
     "shell.execute_reply": "2022-09-29T12:34:05.848267Z",
     "shell.execute_reply.started": "2022-09-29T12:34:05.782505Z"
    }
   },
   "outputs": [
    {
     "name": "stdout",
     "output_type": "stream",
     "text": [
      "              precision    recall  f1-score   support\n",
      "\n",
      "          -1       0.86      0.92      0.89      6820\n",
      "           0       0.90      0.79      0.84      6847\n",
      "           1       0.84      0.77      0.80      6840\n",
      "           2       0.83      0.94      0.88      6789\n",
      "\n",
      "    accuracy                           0.86     27296\n",
      "   macro avg       0.86      0.86      0.85     27296\n",
      "weighted avg       0.86      0.86      0.85     27296\n",
      "\n"
     ]
    }
   ],
   "source": [
    "# NB\n",
    "# Had 0.85\n",
    "print(classification_report(y_train2, y_pred_train_NB))"
   ]
  },
  {
   "cell_type": "code",
   "execution_count": 105,
   "metadata": {
    "execution": {
     "iopub.execute_input": "2022-09-29T12:34:06.513110Z",
     "iopub.status.busy": "2022-09-29T12:34:06.512180Z",
     "iopub.status.idle": "2022-09-29T12:34:06.540618Z",
     "shell.execute_reply": "2022-09-29T12:34:06.539659Z",
     "shell.execute_reply.started": "2022-09-29T12:34:06.513044Z"
    }
   },
   "outputs": [
    {
     "name": "stdout",
     "output_type": "stream",
     "text": [
      "              precision    recall  f1-score   support\n",
      "\n",
      "          -1       0.83      0.91      0.87      1710\n",
      "           0       0.84      0.74      0.79      1683\n",
      "           1       0.76      0.64      0.69      1690\n",
      "           2       0.78      0.91      0.84      1741\n",
      "\n",
      "    accuracy                           0.80      6824\n",
      "   macro avg       0.80      0.80      0.80      6824\n",
      "weighted avg       0.80      0.80      0.80      6824\n",
      "\n"
     ]
    }
   ],
   "source": [
    "# NB test dataset\n",
    "print(classification_report(y_test2, y_pred_test_NB))"
   ]
  },
  {
   "cell_type": "code",
   "execution_count": 106,
   "metadata": {},
   "outputs": [
    {
     "name": "stdout",
     "output_type": "stream",
     "text": [
      "         pred:-1  pred:0  pred:1  pred:2\n",
      "true:-1     1647      29      26       8\n",
      "true:0        47    1524      81      31\n",
      "true:1        91     200    1187     212\n",
      "true:2        10      23      79    1629\n"
     ]
    }
   ],
   "source": [
    "# Confusion Matrix: Logistic Test set\n",
    "unique_label = np.unique([y_test2, y_pred_test_log2])\n",
    "cmtx_log2 = pd.DataFrame(\n",
    "    confusion_matrix(y_test2, y_pred_test_log2, labels=unique_label), \n",
    "    index=['true:{:}'.format(x) for x in unique_label], \n",
    "    columns=['pred:{:}'.format(x) for x in unique_label]\n",
    ")\n",
    "print(cmtx_log2)"
   ]
  },
  {
   "cell_type": "code",
   "execution_count": 107,
   "metadata": {},
   "outputs": [
    {
     "name": "stdout",
     "output_type": "stream",
     "text": [
      "         pred:-1  pred:0  pred:1  pred:2\n",
      "true:-1     1555      42      78      35\n",
      "true:0       145    1239     165     134\n",
      "true:1       150     171    1084     285\n",
      "true:2        32      21     103    1585\n"
     ]
    }
   ],
   "source": [
    "# Confusion Matrix: NB Test set\n",
    "unique_label = np.unique([y_test2, y_pred_test_NB])\n",
    "cmtx_nb = pd.DataFrame(\n",
    "    confusion_matrix(y_test2, y_pred_test_NB, labels=unique_label), \n",
    "    index=['true:{:}'.format(x) for x in unique_label], \n",
    "    columns=['pred:{:}'.format(x) for x in unique_label]\n",
    ")\n",
    "print(cmtx_nb)"
   ]
  },
  {
   "cell_type": "markdown",
   "metadata": {},
   "source": [
    "### Saving metrics for use in Comet"
   ]
  },
  {
   "cell_type": "code",
   "execution_count": 108,
   "metadata": {},
   "outputs": [
    {
     "name": "stdout",
     "output_type": "stream",
     "text": [
      "0.9441398326349904 0.9436128440745666 0.9440661785971134\n",
      "0.8766691105278246 0.8739471000920493 0.8766799402505382\n"
     ]
    }
   ],
   "source": [
    "# Saving each metric to add to a dictionary for logging - Logistic\n",
    "precision_train = precision_score(y_train2, y_pred_train_log2, average='macro')\n",
    "f1_train = f1_score(y_train2, y_pred_train_log2, average='macro')\n",
    "recall_train = recall_score(y_train2, y_pred_train_log2, average='macro')\n",
    "print(precision_train,f1_train2,recall_train)\n",
    "\n",
    "precision_test = precision_score(y_test2, y_pred_test_log2, average='macro')\n",
    "f1_test = f1_score(y_test2, y_pred_test_log2, average='macro')\n",
    "recall_test = recall_score(y_test2, y_pred_test_log2, average='macro')\n",
    "print(precision_test,f1_test,recall_test)"
   ]
  },
  {
   "cell_type": "code",
   "execution_count": 109,
   "metadata": {},
   "outputs": [
    {
     "name": "stdout",
     "output_type": "stream",
     "text": [
      "0.8569984443228114 0.8540457593949071 0.8554000586166471\n",
      "0.800552136895018 0.7961200384380963 0.8005568581477139\n"
     ]
    }
   ],
   "source": [
    "# Saving each metric to add to a dictionary for logging - Naive Bayes\n",
    "precision_nb_train = precision_score(y_train2, y_pred_train_NB, average='weighted')\n",
    "f1_nb_train = f1_score(y_train2, y_pred_train_NB, average='macro')\n",
    "recall_nb_train = recall_score(y_train2, y_pred_train_NB, average='weighted')\n",
    "print(precision_nb_train,f1_nb_train,recall_nb_train)\n",
    "\n",
    "precision_nb_test = precision_score(y_test2, y_pred_test_NB, average='weighted')\n",
    "f1_nb_test = f1_score(y_test2, y_pred_test_NB, average='macro')\n",
    "recall_nb_test = recall_score(y_test2, y_pred_test_NB, average='weighted')\n",
    "print(precision_nb_test,f1_nb_test,recall_nb_test)"
   ]
  },
  {
   "cell_type": "code",
   "execution_count": 134,
   "metadata": {},
   "outputs": [],
   "source": [
    "# Create dictionaries for the data we want to log\n",
    "\n",
    "metrics_log_train_orig = {\"Original: log_reg f1 Train dataset\": f1_train_orig,\n",
    "#            \"Original: log_reg recall Train dataset\": recall_train_orig,\n",
    "#            \"Original: log_reg precision Train dataset\": precision_train_orig,\n",
    "           }\n",
    "metrics_log_test_orig = {\"Original: log_reg f1 Test dataset\": f1_test_orig,\n",
    "#            \"Original: log_reg recall Test dataset\": recall_test_orig,\n",
    "#            \"Original: log_reg precision Test dataset\": precision_test_orig,\n",
    "           }\n",
    "\n",
    "metrics_log_train = {\"log_reg f1 Train dataset\": f1_train,\n",
    "#            \"log_reg recall Train dataset\": recall_train,\n",
    "#            \"log_reg precision Train dataset\": precision_train,\n",
    "           }\n",
    "metrics_log_test = {\"log_reg f1 Test dataset\": f1_test,\n",
    "#            \"log_reg recall Test dataset\": recall_test,\n",
    "#            \"log_reg precision Test dataset\": precision_test,\n",
    "           }\n",
    "\n",
    "metrics_nb_train = {\"NB f1 Train dataset\": f1_nb_train,\n",
    "#            \"NB recall Train dataset\": recall_nb_train,\n",
    "#            \"NB precision Train dataset\": precision_nb_train\n",
    "           }\n",
    "metrics_nb_test = {\"NB f1 Test dataset\": f1_nb_test,\n",
    "#            \"NB recall Test dataset\": recall_nb_test,\n",
    "#            \"NB precision Test dataset\": precision_nb_test\n",
    "           }"
   ]
  },
  {
   "cell_type": "markdown",
   "metadata": {},
   "source": [
    "## Log comet artifact & experiments"
   ]
  },
  {
   "cell_type": "code",
   "execution_count": 145,
   "metadata": {},
   "outputs": [
    {
     "name": "stderr",
     "output_type": "stream",
     "text": [
      "COMET INFO: ---------------------------\n",
      "COMET INFO: Comet.ml Experiment Summary\n",
      "COMET INFO: ---------------------------\n",
      "COMET INFO:   Data:\n",
      "COMET INFO:     display_summary_level : 1\n",
      "COMET INFO:     url                   : https://www.comet.com/tasjal/twitter-sentiment-classification/13bbc7de32554438afba78cb1eed3efd\n",
      "COMET INFO:   Uploads:\n",
      "COMET INFO:     conda-environment-definition : 1\n",
      "COMET INFO:     conda-info                   : 1\n",
      "COMET INFO:     conda-specification          : 1\n",
      "COMET INFO:     environment details          : 1\n",
      "COMET INFO:     filename                     : 1\n",
      "COMET INFO:     git metadata                 : 1\n",
      "COMET INFO:     git-patch (uncompressed)     : 1 (125.90 KB)\n",
      "COMET INFO:     installed packages           : 1\n",
      "COMET INFO:     notebook                     : 1\n",
      "COMET INFO:     source_code                  : 1\n",
      "COMET INFO: ---------------------------\n",
      "COMET WARNING: As you are running in a Jupyter environment, you will need to call `experiment.end()` when finished to ensure all metrics and code are logged before exiting.\n",
      "COMET INFO: Experiment is live on comet.ml https://www.comet.com/tasjal/twitter-sentiment-classification/7795d58db74745f8a4306a4ea3daa45e\n",
      "\n",
      "COMET INFO: ---------------------------\n",
      "COMET INFO: Comet.ml Experiment Summary\n",
      "COMET INFO: ---------------------------\n",
      "COMET INFO:   Data:\n",
      "COMET INFO:     display_summary_level : 1\n",
      "COMET INFO:     url                   : https://www.comet.com/tasjal/twitter-sentiment-classification/7795d58db74745f8a4306a4ea3daa45e\n",
      "COMET INFO:   Metrics:\n",
      "COMET INFO:     NB f1 Test dataset                 : 0.7961200384380963\n",
      "COMET INFO:     NB f1 Train dataset                : 0.8540457593949071\n",
      "COMET INFO:     Original: log_reg f1 Test dataset  : 0.883394486441239\n",
      "COMET INFO:     Original: log_reg f1 Train dataset : 0.9514284074542546\n",
      "COMET INFO:     log_reg f1 Test dataset            : 0.8739471000920493\n",
      "COMET INFO:     log_reg f1 Train dataset           : 0.9436128440745666\n",
      "COMET INFO:   Uploads:\n",
      "COMET INFO:     conda-environment-definition : 1\n",
      "COMET INFO:     conda-info                   : 1\n",
      "COMET INFO:     conda-specification          : 1\n",
      "COMET INFO:     confusion-matrix             : 3\n",
      "COMET INFO:     environment details          : 1\n",
      "COMET INFO:     filename                     : 1\n",
      "COMET INFO:     git metadata                 : 1\n",
      "COMET INFO:     git-patch (uncompressed)     : 1 (125.90 KB)\n",
      "COMET INFO:     installed packages           : 1\n",
      "COMET INFO:     notebook                     : 1\n",
      "COMET INFO:     source_code                  : 1\n",
      "COMET INFO: ---------------------------\n",
      "COMET INFO: Uploading 1 metrics, params and output messages\n"
     ]
    }
   ],
   "source": [
    "# Create an experiment with your api key\n",
    "experiment = Experiment(\n",
    "    api_key=\"C8t8kdYjyiHJhe8TvHmxhMjmx\",\n",
    "    project_name=\"twitter-sentiment-classification\",\n",
    "    workspace=\"tasjal\",\n",
    ")\n",
    "\n",
    "#artifact = Artifact(artifact_name=\"train\", artifact_type=\"dataset\")\n",
    "#artifact.add(\"C:/Users/nb205174/OneDrive - Nedbank/Documents/PR/Nedbank Training/EDSA - ML/Sprint 4/PREDICT/Data/train.csv\")\n",
    "#experiment.log_artifact(artifact)\n",
    "\n",
    "\n",
    "# Log our metrics and results\n",
    "experiment.log_metrics(metrics_log_train_orig)\n",
    "experiment.log_metrics(metrics_log_test_orig)\n",
    "experiment.log_metrics(metrics_log_train)\n",
    "experiment.log_metrics(metrics_log_test)\n",
    "experiment.log_metrics(metrics_nb_train)\n",
    "experiment.log_metrics(metrics_nb_test)\n",
    "\n",
    "# Log our confusion matrices\n",
    "experiment.log_confusion_matrix(y_test.values, y_pred_test_log)\n",
    "experiment.log_confusion_matrix(y_test.values, y_pred_test_log2)\n",
    "experiment.log_confusion_matrix(y_test.values, y_pred_test_NB)\n",
    "\n",
    "# End comet experiment logging\n",
    "experiment.end()"
   ]
  },
  {
   "cell_type": "markdown",
   "metadata": {},
   "source": [
    "## Display Comet\n",
    "\n",
    "Running `experiment.display()` will show you your experiments comet.ml page inside your notebook as illustrated below. You can do this immediately after an experiment is run, and logged. "
   ]
  },
  {
   "cell_type": "code",
   "execution_count": null,
   "metadata": {},
   "outputs": [],
   "source": [
    "experiment.display()"
   ]
  },
  {
   "cell_type": "markdown",
   "metadata": {},
   "source": [
    "## Kaggle Submission\n",
    "\n",
    "We now need to apply all previously applied preprocessing steps on the test dataset as well."
   ]
  },
  {
   "cell_type": "code",
   "execution_count": 77,
   "metadata": {
    "execution": {
     "iopub.execute_input": "2022-09-29T12:34:38.799717Z",
     "iopub.status.busy": "2022-09-29T12:34:38.799264Z",
     "iopub.status.idle": "2022-09-29T12:34:38.923708Z",
     "shell.execute_reply": "2022-09-29T12:34:38.922422Z",
     "shell.execute_reply.started": "2022-09-29T12:34:38.799685Z"
    }
   },
   "outputs": [
    {
     "data": {
      "text/html": [
       "<div>\n",
       "<style scoped>\n",
       "    .dataframe tbody tr th:only-of-type {\n",
       "        vertical-align: middle;\n",
       "    }\n",
       "\n",
       "    .dataframe tbody tr th {\n",
       "        vertical-align: top;\n",
       "    }\n",
       "\n",
       "    .dataframe thead th {\n",
       "        text-align: right;\n",
       "    }\n",
       "</style>\n",
       "<table border=\"1\" class=\"dataframe\">\n",
       "  <thead>\n",
       "    <tr style=\"text-align: right;\">\n",
       "      <th></th>\n",
       "      <th>message</th>\n",
       "      <th>tweetid</th>\n",
       "    </tr>\n",
       "  </thead>\n",
       "  <tbody>\n",
       "    <tr>\n",
       "      <th>0</th>\n",
       "      <td>Europe will now be looking to China to make sure that it is not alone in fighting climate change… https://t.co/O7T8rCgwDq</td>\n",
       "      <td>169760</td>\n",
       "    </tr>\n",
       "    <tr>\n",
       "      <th>1</th>\n",
       "      <td>Combine this with the polling of staffers re climate change and womens' rights and you have a fascist state. https://t.co/ifrm7eexpj</td>\n",
       "      <td>35326</td>\n",
       "    </tr>\n",
       "    <tr>\n",
       "      <th>2</th>\n",
       "      <td>The scary, unimpeachable evidence that climate change is already here: https://t.co/yAedqcV9Ki #itstimetochange #climatechange @ZEROCO2_;..</td>\n",
       "      <td>224985</td>\n",
       "    </tr>\n",
       "    <tr>\n",
       "      <th>3</th>\n",
       "      <td>@Karoli @morgfair @OsborneInk @dailykos \\nPutin got to you too Jill ! \\nTrump doesn't believe in climate change at all \\nThinks it's s hoax</td>\n",
       "      <td>476263</td>\n",
       "    </tr>\n",
       "    <tr>\n",
       "      <th>4</th>\n",
       "      <td>RT @FakeWillMoore: 'Female orgasms cause global warming!'\\n-Sarcastic Republican</td>\n",
       "      <td>872928</td>\n",
       "    </tr>\n",
       "  </tbody>\n",
       "</table>\n",
       "</div>"
      ],
      "text/plain": [
       "                                                                                                                                       message  \\\n",
       "0                    Europe will now be looking to China to make sure that it is not alone in fighting climate change… https://t.co/O7T8rCgwDq   \n",
       "1         Combine this with the polling of staffers re climate change and womens' rights and you have a fascist state. https://t.co/ifrm7eexpj   \n",
       "2  The scary, unimpeachable evidence that climate change is already here: https://t.co/yAedqcV9Ki #itstimetochange #climatechange @ZEROCO2_;..   \n",
       "3  @Karoli @morgfair @OsborneInk @dailykos \\nPutin got to you too Jill ! \\nTrump doesn't believe in climate change at all \\nThinks it's s hoax   \n",
       "4                                                             RT @FakeWillMoore: 'Female orgasms cause global warming!'\\n-Sarcastic Republican   \n",
       "\n",
       "   tweetid  \n",
       "0   169760  \n",
       "1    35326  \n",
       "2   224985  \n",
       "3   476263  \n",
       "4   872928  "
      ]
     },
     "execution_count": 77,
     "metadata": {},
     "output_type": "execute_result"
    }
   ],
   "source": [
    "# Import test dataset\n",
    "# Using kaggle\n",
    "#test = pd.read_csv('/kaggle/input/edsa-sentiment-classification/test.csv')\n",
    "# On local machine\n",
    "test = pd.read_csv('C:/Users/nb205174/OneDrive - Nedbank/Documents/PR/Nedbank Training/EDSA - ML/Sprint 4/PREDICT/Data/test.csv')\n",
    "test.head()"
   ]
  },
  {
   "cell_type": "code",
   "execution_count": 78,
   "metadata": {
    "execution": {
     "iopub.execute_input": "2022-09-29T12:34:56.123395Z",
     "iopub.status.busy": "2022-09-29T12:34:56.122948Z",
     "iopub.status.idle": "2022-09-29T12:34:56.386316Z",
     "shell.execute_reply": "2022-09-29T12:34:56.385046Z",
     "shell.execute_reply.started": "2022-09-29T12:34:56.123360Z"
    }
   },
   "outputs": [],
   "source": [
    "def preprocessing_data(post):\n",
    "\n",
    "    # Remove capitalisation\n",
    "    post_c = post.str.lower()\n",
    "    \n",
    "    # Identify the url's & then replace with a url-web\n",
    "    pattern_url = r'http[s]?://(?:[A-Za-z]|[0-9]|[$-_@.&+]|[!*\\(\\),]|(?:%[0-9A-Fa-f][0-9A-Fa-f]))+'\n",
    "    subs_url = r'url-web'\n",
    "    subs_bvalue = r''\n",
    "    post_url = post_c.replace(to_replace = pattern_url, value = subs_url, regex = True)\n",
    "    \n",
    "    # Identify @words & replace with blank\n",
    "    pattern_at = r'@\\S+'\n",
    "    post_at = post_url.replace(to_replace = pattern_at, value = subs_bvalue, regex = True)\n",
    "    \n",
    "    # Lets replace the \\n values from the string with a space\n",
    "    post_n = post_at.replace(to_replace = '\\n', value = ' ', regex = True)\n",
    "    \n",
    "    # Create function for removing pucntuation\n",
    "    def remove_punctuation(post):\n",
    "        return ''.join([l for l in post if l not in string.punctuation])# Remove punctuation\n",
    "    ''.join([l for l in post if l not in string.punctuation])    \n",
    "    # Remove punctuation\n",
    "    post_punct = post_n.apply(remove_punctuation)\n",
    "    \n",
    "    # Remove special characters\n",
    "    pattern_special = r'[^0-9a-zA-Z]+'\n",
    "    cleaned = post_punct.replace(to_replace = pattern_special, value = ' ', regex = True)\n",
    "    \n",
    "    # Remove numbers\n",
    "    pattern_nr = r'[0-9]+'\n",
    "    cleaned = cleaned.replace(to_replace = pattern_nr, value = subs_bvalue, regex = True)\n",
    "    \n",
    "    # Tokenization\n",
    "    tokeniser = TreebankWordTokenizer()\n",
    "    tokenized = cleaned.apply(tokeniser.tokenize)\n",
    "    \n",
    "    # Lemmatisation\n",
    "    lemmatizer = WordNetLemmatizer()\n",
    "    def lemmatize(words, lemmatizer):\n",
    "        lemma_words = [lemmatizer.lemmatize(word) for word in words]\n",
    "        return \" \".join(lemma_words)  \n",
    "    lemma = tokenized.apply(lemmatize, args=(lemmatizer, ))\n",
    "    \n",
    "    return lemma"
   ]
  },
  {
   "cell_type": "code",
   "execution_count": 79,
   "metadata": {
    "execution": {
     "iopub.execute_input": "2022-09-29T12:35:04.090248Z",
     "iopub.status.busy": "2022-09-29T12:35:04.089815Z",
     "iopub.status.idle": "2022-09-29T12:35:06.328287Z",
     "shell.execute_reply": "2022-09-29T12:35:06.326828Z",
     "shell.execute_reply.started": "2022-09-29T12:35:04.090213Z"
    }
   },
   "outputs": [
    {
     "data": {
      "text/html": [
       "<div>\n",
       "<style scoped>\n",
       "    .dataframe tbody tr th:only-of-type {\n",
       "        vertical-align: middle;\n",
       "    }\n",
       "\n",
       "    .dataframe tbody tr th {\n",
       "        vertical-align: top;\n",
       "    }\n",
       "\n",
       "    .dataframe thead th {\n",
       "        text-align: right;\n",
       "    }\n",
       "</style>\n",
       "<table border=\"1\" class=\"dataframe\">\n",
       "  <thead>\n",
       "    <tr style=\"text-align: right;\">\n",
       "      <th></th>\n",
       "      <th>message</th>\n",
       "      <th>tweetid</th>\n",
       "      <th>clean</th>\n",
       "    </tr>\n",
       "  </thead>\n",
       "  <tbody>\n",
       "    <tr>\n",
       "      <th>0</th>\n",
       "      <td>Europe will now be looking to China to make sure that it is not alone in fighting climate change… https://t.co/O7T8rCgwDq</td>\n",
       "      <td>169760</td>\n",
       "      <td>europe will now be looking to china to make sure that it is not alone in fighting climate change urlweb</td>\n",
       "    </tr>\n",
       "    <tr>\n",
       "      <th>1</th>\n",
       "      <td>Combine this with the polling of staffers re climate change and womens' rights and you have a fascist state. https://t.co/ifrm7eexpj</td>\n",
       "      <td>35326</td>\n",
       "      <td>combine this with the polling of staffer re climate change and woman right and you have a fascist state urlweb</td>\n",
       "    </tr>\n",
       "    <tr>\n",
       "      <th>2</th>\n",
       "      <td>The scary, unimpeachable evidence that climate change is already here: https://t.co/yAedqcV9Ki #itstimetochange #climatechange @ZEROCO2_;..</td>\n",
       "      <td>224985</td>\n",
       "      <td>the scary unimpeachable evidence that climate change is already here urlweb itstimetochange climatechange</td>\n",
       "    </tr>\n",
       "    <tr>\n",
       "      <th>3</th>\n",
       "      <td>@Karoli @morgfair @OsborneInk @dailykos \\nPutin got to you too Jill ! \\nTrump doesn't believe in climate change at all \\nThinks it's s hoax</td>\n",
       "      <td>476263</td>\n",
       "      <td>putin got to you too jill trump doesnt believe in climate change at all think it s hoax</td>\n",
       "    </tr>\n",
       "    <tr>\n",
       "      <th>4</th>\n",
       "      <td>RT @FakeWillMoore: 'Female orgasms cause global warming!'\\n-Sarcastic Republican</td>\n",
       "      <td>872928</td>\n",
       "      <td>rt female orgasm cause global warming sarcastic republican</td>\n",
       "    </tr>\n",
       "  </tbody>\n",
       "</table>\n",
       "</div>"
      ],
      "text/plain": [
       "                                                                                                                                       message  \\\n",
       "0                    Europe will now be looking to China to make sure that it is not alone in fighting climate change… https://t.co/O7T8rCgwDq   \n",
       "1         Combine this with the polling of staffers re climate change and womens' rights and you have a fascist state. https://t.co/ifrm7eexpj   \n",
       "2  The scary, unimpeachable evidence that climate change is already here: https://t.co/yAedqcV9Ki #itstimetochange #climatechange @ZEROCO2_;..   \n",
       "3  @Karoli @morgfair @OsborneInk @dailykos \\nPutin got to you too Jill ! \\nTrump doesn't believe in climate change at all \\nThinks it's s hoax   \n",
       "4                                                             RT @FakeWillMoore: 'Female orgasms cause global warming!'\\n-Sarcastic Republican   \n",
       "\n",
       "   tweetid  \\\n",
       "0   169760   \n",
       "1    35326   \n",
       "2   224985   \n",
       "3   476263   \n",
       "4   872928   \n",
       "\n",
       "                                                                                                            clean  \n",
       "0         europe will now be looking to china to make sure that it is not alone in fighting climate change urlweb  \n",
       "1  combine this with the polling of staffer re climate change and woman right and you have a fascist state urlweb  \n",
       "2       the scary unimpeachable evidence that climate change is already here urlweb itstimetochange climatechange  \n",
       "3                         putin got to you too jill trump doesnt believe in climate change at all think it s hoax  \n",
       "4                                                      rt female orgasm cause global warming sarcastic republican  "
      ]
     },
     "execution_count": 79,
     "metadata": {},
     "output_type": "execute_result"
    }
   ],
   "source": [
    "# Apply & check if preprocessing is applied correctly\n",
    "test['clean'] = preprocessing_data(test['message'])\n",
    "test.head()"
   ]
  },
  {
   "cell_type": "code",
   "execution_count": 80,
   "metadata": {
    "execution": {
     "iopub.execute_input": "2022-09-29T12:36:51.260954Z",
     "iopub.status.busy": "2022-09-29T12:36:51.259367Z",
     "iopub.status.idle": "2022-09-29T12:36:52.142983Z",
     "shell.execute_reply": "2022-09-29T12:36:52.141753Z",
     "shell.execute_reply.started": "2022-09-29T12:36:51.260888Z"
    }
   },
   "outputs": [],
   "source": [
    "# Apply train dataset vectorization to test set\n",
    "#X_count = vect.transform(test['clean'].values.astype(str))\n",
    "X_count_s = vect.transform(test['clean'].values.astype(str))\n",
    "\n",
    "    \n",
    "# Final features\n",
    "X_s = X_count_s.toarray()"
   ]
  },
  {
   "cell_type": "code",
   "execution_count": 81,
   "metadata": {
    "execution": {
     "iopub.execute_input": "2022-09-29T12:36:56.660957Z",
     "iopub.status.busy": "2022-09-29T12:36:56.660555Z",
     "iopub.status.idle": "2022-09-29T12:36:56.669760Z",
     "shell.execute_reply": "2022-09-29T12:36:56.668370Z",
     "shell.execute_reply.started": "2022-09-29T12:36:56.660923Z"
    }
   },
   "outputs": [
    {
     "data": {
      "text/plain": [
       "(10546, 14647)"
      ]
     },
     "execution_count": 81,
     "metadata": {},
     "output_type": "execute_result"
    }
   ],
   "source": [
    "# Check shape\n",
    "X_s.shape"
   ]
  },
  {
   "cell_type": "code",
   "execution_count": 82,
   "metadata": {
    "execution": {
     "iopub.execute_input": "2022-09-29T12:37:05.947947Z",
     "iopub.status.busy": "2022-09-29T12:37:05.947517Z",
     "iopub.status.idle": "2022-09-29T12:37:06.896386Z",
     "shell.execute_reply": "2022-09-29T12:37:06.894641Z",
     "shell.execute_reply.started": "2022-09-29T12:37:05.947911Z"
    }
   },
   "outputs": [],
   "source": [
    "# Generate predictions - Logistic\n",
    "y_pred = logreg.predict(X_s)"
   ]
  },
  {
   "cell_type": "code",
   "execution_count": 84,
   "metadata": {
    "execution": {
     "iopub.execute_input": "2022-09-29T12:49:19.381758Z",
     "iopub.status.busy": "2022-09-29T12:49:19.381263Z",
     "iopub.status.idle": "2022-09-29T12:49:19.389602Z",
     "shell.execute_reply": "2022-09-29T12:49:19.388075Z",
     "shell.execute_reply.started": "2022-09-29T12:49:19.381718Z"
    }
   },
   "outputs": [
    {
     "data": {
      "text/plain": [
       "Counter({1: 4868, 0: 1782, 2: 2835, -1: 1061})"
      ]
     },
     "execution_count": 84,
     "metadata": {},
     "output_type": "execute_result"
    }
   ],
   "source": [
    "from collections import Counter\n",
    "import collections\n",
    "count = collections.Counter(y_pred)\n",
    "count"
   ]
  },
  {
   "cell_type": "code",
   "execution_count": 64,
   "metadata": {
    "execution": {
     "iopub.execute_input": "2022-09-29T12:51:17.291984Z",
     "iopub.status.busy": "2022-09-29T12:51:17.291521Z",
     "iopub.status.idle": "2022-09-29T12:51:17.525778Z",
     "shell.execute_reply": "2022-09-29T12:51:17.524477Z",
     "shell.execute_reply.started": "2022-09-29T12:51:17.291945Z"
    }
   },
   "outputs": [
    {
     "data": {
      "text/plain": [
       "<AxesSubplot:title={'center':'Eskom sentiment prediction'}>"
      ]
     },
     "execution_count": 64,
     "metadata": {},
     "output_type": "execute_result"
    },
    {
     "data": {
      "image/png": "[encoded data removed]",
      "text/plain": [
       "<Figure size 432x288 with 1 Axes>"
      ]
     },
     "metadata": {
      "needs_background": "light"
     },
     "output_type": "display_data"
    }
   ],
   "source": [
    "df = pd.DataFrame.from_dict(count, orient='index')\n",
    "df.plot(kind='bar', title='Eskom sentiment prediction', color = 'red')"
   ]
  },
  {
   "cell_type": "code",
   "execution_count": null,
   "metadata": {},
   "outputs": [],
   "source": [
    "# Count of each category\n",
    "sent_0 = train[train['sentiment']==0]\n",
    "sent_1 = train[train['sentiment']==1]\n",
    "sent_2 = train[train['sentiment']==2]\n",
    "sent_neg1 = train[train['sentiment']==-1]\n",
    "print(\"0: %Pop: \", len(sent_0)/len(train), \" Total Records:\", len(sent_0))\n",
    "print(\"1: %Pop: \",len(sent_1)/len(train), \" Total Records:\", len(sent_1))\n",
    "print(\"2: %Pop: \",len(sent_2)/len(train), \" Total Records:\", len(sent_2))\n",
    "print(\"-1: %Pop: \",len(sent_neg1)/len(train), \" Total Records:\", len(sent_neg1))"
   ]
  },
  {
   "cell_type": "code",
   "execution_count": 65,
   "metadata": {
    "execution": {
     "iopub.execute_input": "2022-09-29T12:51:45.174525Z",
     "iopub.status.busy": "2022-09-29T12:51:45.174037Z",
     "iopub.status.idle": "2022-09-29T12:51:45.195418Z",
     "shell.execute_reply": "2022-09-29T12:51:45.193669Z",
     "shell.execute_reply.started": "2022-09-29T12:51:45.174484Z"
    }
   },
   "outputs": [
    {
     "data": {
      "text/html": [
       "<div>\n",
       "<style scoped>\n",
       "    .dataframe tbody tr th:only-of-type {\n",
       "        vertical-align: middle;\n",
       "    }\n",
       "\n",
       "    .dataframe tbody tr th {\n",
       "        vertical-align: top;\n",
       "    }\n",
       "\n",
       "    .dataframe thead th {\n",
       "        text-align: right;\n",
       "    }\n",
       "</style>\n",
       "<table border=\"1\" class=\"dataframe\">\n",
       "  <thead>\n",
       "    <tr style=\"text-align: right;\">\n",
       "      <th></th>\n",
       "      <th>tweetid</th>\n",
       "      <th>sentiment</th>\n",
       "    </tr>\n",
       "  </thead>\n",
       "  <tbody>\n",
       "    <tr>\n",
       "      <th>10541</th>\n",
       "      <td>895714</td>\n",
       "      <td>-1</td>\n",
       "    </tr>\n",
       "    <tr>\n",
       "      <th>10542</th>\n",
       "      <td>875167</td>\n",
       "      <td>1</td>\n",
       "    </tr>\n",
       "    <tr>\n",
       "      <th>10543</th>\n",
       "      <td>78329</td>\n",
       "      <td>2</td>\n",
       "    </tr>\n",
       "    <tr>\n",
       "      <th>10544</th>\n",
       "      <td>867455</td>\n",
       "      <td>0</td>\n",
       "    </tr>\n",
       "    <tr>\n",
       "      <th>10545</th>\n",
       "      <td>470892</td>\n",
       "      <td>1</td>\n",
       "    </tr>\n",
       "  </tbody>\n",
       "</table>\n",
       "</div>"
      ],
      "text/plain": [
       "       tweetid  sentiment\n",
       "10541   895714         -1\n",
       "10542   875167          1\n",
       "10543    78329          2\n",
       "10544   867455          0\n",
       "10545   470892          1"
      ]
     },
     "execution_count": 65,
     "metadata": {},
     "output_type": "execute_result"
    }
   ],
   "source": [
    "# Create final submission file & check\n",
    "test['sentiment']=pd.Series(y_pred)\n",
    "final_submit = test[['tweetid','sentiment']]\n",
    "final_submit.tail()"
   ]
  },
  {
   "cell_type": "code",
   "execution_count": 66,
   "metadata": {
    "execution": {
     "iopub.execute_input": "2022-09-29T12:51:58.832894Z",
     "iopub.status.busy": "2022-09-29T12:51:58.832451Z",
     "iopub.status.idle": "2022-09-29T12:51:58.855415Z",
     "shell.execute_reply": "2022-09-29T12:51:58.854235Z",
     "shell.execute_reply.started": "2022-09-29T12:51:58.832859Z"
    }
   },
   "outputs": [],
   "source": [
    "# Export to csv\n",
    "final_submit.to_csv('TLSubmission.csv',index=False)"
   ]
  },
  {
   "cell_type": "code",
   "execution_count": null,
   "metadata": {},
   "outputs": [],
   "source": []
  }
 ],
 "metadata": {
  "kernelspec": {
   "display_name": "Python 3 (ipykernel)",
   "language": "python",
   "name": "python3"
  },
  "language_info": {
   "codemirror_mode": {
    "name": "ipython",
    "version": 3
   },
   "file_extension": ".py",
   "mimetype": "text/x-python",
   "name": "python",
   "nbconvert_exporter": "python",
   "pygments_lexer": "ipython3",
   "version": "3.9.13"
  }
 },
 "nbformat": 4,
 "nbformat_minor": 4
}
